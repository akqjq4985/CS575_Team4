{
  "cells": [
    {
      "cell_type": "markdown",
      "metadata": {
        "id": "wj2xfkknuDsp"
      },
      "source": [
        "# Load word embedding and prepare the dictionary for HSR"
      ]
    },
    {
      "cell_type": "code",
      "source": [
        "from google.colab import drive\n",
        "drive.mount('/content/drive/')"
      ],
      "metadata": {
        "colab": {
          "base_uri": "https://localhost:8080/"
        },
        "id": "BVjXMNmPTjPn",
        "outputId": "f0b825b8-f2dc-432b-bd06-3549e41521d9"
      },
      "execution_count": null,
      "outputs": [
        {
          "output_type": "stream",
          "name": "stdout",
          "text": [
            "Mounted at /content/drive/\n"
          ]
        }
      ]
    },
    {
      "cell_type": "code",
      "source": [
        "import os\n",
        "os.chdir('drive/My Drive/project_path')"
      ],
      "metadata": {
        "id": "TUI5Scw0Tk41"
      },
      "execution_count": null,
      "outputs": []
    },
    {
      "cell_type": "code",
      "source": [
        "!pip install transformers"
      ],
      "metadata": {
        "id": "azfCwcVDtGmb"
      },
      "execution_count": null,
      "outputs": []
    },
    {
      "cell_type": "code",
      "source": [
        "import torch\n",
        "from transformers import AutoModel, AutoTokenizer\n",
        "import logging\n",
        "import matplotlib.pyplot as plt"
      ],
      "metadata": {
        "id": "wDBQ-qaKtC9K"
      },
      "execution_count": null,
      "outputs": []
    },
    {
      "cell_type": "code",
      "source": [
        "def get_bert_input(text, tokenizer):\n",
        "  # text = \"프로그래머\"\n",
        "    marked_text = \"[CLS]\" + text + \"[SEP]\"\n",
        "    tokenized_text = tokenizer.tokenize(marked_text)\n",
        "    indexed_tokens = tokenizer.convert_tokens_to_ids(tokenized_text)\n",
        "  # print(tokenized_text)\n",
        "  # print(indexed_text)\n",
        "    segments_ids = [1]\n",
        "    tokens_tensor = torch.tensor([indexed_tokens])\n",
        "    segments_tensor = torch.tensor([segments_ids])\n",
        "    return tokens_tensor, segments_tensor\n",
        "\n",
        "def get_word_emb(text, tokenizer, model):\n",
        "    tokens_tensor, segments_tensor = get_bert_input(text, tokenizer)\n",
        "    model.eval()\n",
        "    with torch.no_grad():\n",
        "        outputs = model(tokens_tensor, segments_tensor)\n",
        "    hidden_states = outputs[2]\n",
        "    token_vecs = hidden_states[-2][0] # second to last layer representation. (num_tokens, 768)\n",
        "  # Calculate the average of all 22 token vectors.\n",
        "    sentence_embedding = torch.mean(token_vecs, dim=0)\n",
        "    return sentence_embedding\n",
        "\n",
        "model = AutoModel.from_pretrained(\"klue/bert-base\", output_hidden_states = True)\n",
        "tokenizer = AutoTokenizer.from_pretrained(\"klue/bert-base\")"
      ],
      "metadata": {
        "colab": {
          "base_uri": "https://localhost:8080/",
          "height": 284,
          "referenced_widgets": [
            "5bc0b372a5524ecbb353f168043d56d4",
            "22cb9e9694404863b643f37bd94e639d",
            "a1ae095aa369497e8be7ed2226773a2c",
            "84c17bbe775843288c948d81a8575a32",
            "ca05c31760be48b193c519cda82c48ad",
            "bc13dab876ba409fa3d15447ddf5da91",
            "4c399007e5a842a2ba34b8148c99f661",
            "79c39021f70f4e4e9c2e0d8781f8d935",
            "19bade9927fb46fc80f3ff3e1ec6d38c",
            "a167ea086dba40b98daa5b0935ba50ae",
            "1b286cb1b3cf483dab2f462d6c171640",
            "77b49363bd334adbabcd083713a00b48",
            "09c3c6189df14d45ab4fac12ec9518a8",
            "16268203384a4967bdf2b95dd29e3b86",
            "cc2563a912be4976865dddc2b739679e",
            "de371b270bba4d82b9489715d89f5df6",
            "5bbf9b0cbada4794a000c5ba49cbfb48",
            "4bd68cc4802649b9940f6beba99023ff",
            "2534897617204a00abeed7091759f460",
            "61329235811844969b7c78649932b20a",
            "0593c7461c8b4e228de340f3ac828f9c",
            "4485ec2071084928a65c37052730c32c",
            "7a8dcca5fa2d40119e1e130f77535ffb",
            "b504575b14ab4d87a9ca5d3352a3c007",
            "0736fd6ea25e45b68c80ff7099957a34",
            "fc3f048583ae4ae099ac548dc7cf14b1",
            "44f3f9428cf84c48b2d60b9836aef5d6",
            "6c4df341afb3446da8012d3a16be2b77",
            "127272bf932a4272b82c808bfa4f989f",
            "6a27b646bf354e3fbc9b59722efbd7fc",
            "85a5b587feef4e759c0d5f0a6eb8db5c",
            "fc1dcb5c9da046218806ea043d1dc2c5",
            "7f6e91e6d1e042b5ba8d00b178e2f73c",
            "d912da7649f640239257a31670bd6e34",
            "1923f3fdb94e43eab9ac71112cd08edf",
            "84aaac713fd24771a508c5993f37dcbd",
            "e0ffc92c10cb42ea998c1c84dcefd325",
            "081d4555a9eb47e0b281830e6c246ddd",
            "7a33d4fff7704f47b5c5503f56289059",
            "7fc994fc8231434390fa3d2f5d6b92c7",
            "bb50e9dee4f64408a6ccfb354d1ad66d",
            "f2c09c68f1394a108b5c78c5caee668e",
            "eb7ebfad554c4b20b69da90cc9b00990",
            "2632bc789a384adfadf29bf24b2f2dd8",
            "959657da2c3c43fd9375e8323538241b",
            "2178fa8363b8449dbdc2badef7aa85f3",
            "c95a4b1a24814f9980e8e093f28b6e56",
            "92419ae6fb9d4a8593fdf9ceef05f0d4",
            "18d186ec66e94b1b9d4aada21ed96e83",
            "814079f90d8c4e3f94d437ccf13aaa1f",
            "0c4f86238e3444b79e1b6fe90632b34e",
            "6864bd1326824136ae2ab77b410a66b5",
            "3524c8e168a9482da530f4a6f31b69e9",
            "6bbcc689f82349e5ac8267d83aafff83",
            "013732ff123e462e86c0b09162b7283f",
            "3b341b5c4a5847dabd5d3de51cba364b",
            "2429cc8eb19b4ddfa868a68c95eefe73",
            "91d24d93f3d44cf4a70e75ed78e72e52",
            "eab568f349a042408e18c1d7c9512d2f",
            "964b5f1af4884357856405bcdd8f0adf",
            "aca8f751300a4e30a90266b163017f11",
            "c856062673324429a9e2b9a2be1605b7",
            "326c82f7bebe404ca1061ab9029be87d",
            "f4c1c64b472743b6a163324a29b7e822",
            "51082e96701246898ec6ef20dd24daaf",
            "c3cb1c83382d457093e16994589accb4"
          ]
        },
        "id": "LXWBU9O3s-D9",
        "outputId": "3eb86651-4bff-4a3c-b287-1580fa426734"
      },
      "execution_count": null,
      "outputs": [
        {
          "output_type": "display_data",
          "data": {
            "text/plain": [
              "Downloading:   0%|          | 0.00/425 [00:00<?, ?B/s]"
            ],
            "application/vnd.jupyter.widget-view+json": {
              "version_major": 2,
              "version_minor": 0,
              "model_id": "5bc0b372a5524ecbb353f168043d56d4"
            }
          },
          "metadata": {}
        },
        {
          "output_type": "display_data",
          "data": {
            "text/plain": [
              "Downloading:   0%|          | 0.00/424M [00:00<?, ?B/s]"
            ],
            "application/vnd.jupyter.widget-view+json": {
              "version_major": 2,
              "version_minor": 0,
              "model_id": "77b49363bd334adbabcd083713a00b48"
            }
          },
          "metadata": {}
        },
        {
          "output_type": "stream",
          "name": "stderr",
          "text": [
            "Some weights of the model checkpoint at klue/bert-base were not used when initializing BertModel: ['cls.predictions.decoder.weight', 'cls.predictions.decoder.bias', 'cls.seq_relationship.bias', 'cls.seq_relationship.weight', 'cls.predictions.transform.LayerNorm.bias', 'cls.predictions.transform.dense.weight', 'cls.predictions.transform.LayerNorm.weight', 'cls.predictions.transform.dense.bias', 'cls.predictions.bias']\n",
            "- This IS expected if you are initializing BertModel from the checkpoint of a model trained on another task or with another architecture (e.g. initializing a BertForSequenceClassification model from a BertForPreTraining model).\n",
            "- This IS NOT expected if you are initializing BertModel from the checkpoint of a model that you expect to be exactly identical (initializing a BertForSequenceClassification model from a BertForSequenceClassification model).\n"
          ]
        },
        {
          "output_type": "display_data",
          "data": {
            "text/plain": [
              "Downloading:   0%|          | 0.00/289 [00:00<?, ?B/s]"
            ],
            "application/vnd.jupyter.widget-view+json": {
              "version_major": 2,
              "version_minor": 0,
              "model_id": "7a8dcca5fa2d40119e1e130f77535ffb"
            }
          },
          "metadata": {}
        },
        {
          "output_type": "display_data",
          "data": {
            "text/plain": [
              "Downloading:   0%|          | 0.00/243k [00:00<?, ?B/s]"
            ],
            "application/vnd.jupyter.widget-view+json": {
              "version_major": 2,
              "version_minor": 0,
              "model_id": "d912da7649f640239257a31670bd6e34"
            }
          },
          "metadata": {}
        },
        {
          "output_type": "display_data",
          "data": {
            "text/plain": [
              "Downloading:   0%|          | 0.00/483k [00:00<?, ?B/s]"
            ],
            "application/vnd.jupyter.widget-view+json": {
              "version_major": 2,
              "version_minor": 0,
              "model_id": "959657da2c3c43fd9375e8323538241b"
            }
          },
          "metadata": {}
        },
        {
          "output_type": "display_data",
          "data": {
            "text/plain": [
              "Downloading:   0%|          | 0.00/125 [00:00<?, ?B/s]"
            ],
            "application/vnd.jupyter.widget-view+json": {
              "version_major": 2,
              "version_minor": 0,
              "model_id": "3b341b5c4a5847dabd5d3de51cba364b"
            }
          },
          "metadata": {}
        }
      ]
    },
    {
      "cell_type": "code",
      "source": [
        "## make whole_vectors.txt with neutral, female, male, professions\n",
        "output_file = \"./word list/whole_vectors.txt\"\n",
        "dict_whole = {}\n",
        "with open(output_file, \"w\") as my_output_file:\n",
        "    with open(\"./word list/gender_neutral.txt\", \"r\") as word_list:\n",
        "        word = word_list.readline()\n",
        "        while word:\n",
        "            word = word.strip()\n",
        "            if word == \"\": continue\n",
        "            emb1 = get_word_emb(word, tokenizer, model)\n",
        "            emb1_list = emb1.tolist()\n",
        "            dict_whole[word] = emb1_list\n",
        "            my_output_file.write(word.strip() + \" \" + \" \".join(map(str, emb1_list)) + '\\n')\n",
        "            word = word_list.readline()\n",
        "    word_list.close()\n",
        "    with open(\"./word list/male.txt\", \"r\") as word_list:\n",
        "        word = word_list.readline()\n",
        "        while word:\n",
        "            word = word.strip()\n",
        "            if word == \"\": continue\n",
        "            emb1 = get_word_emb(word, tokenizer, model)\n",
        "            emb1_list = emb1.tolist()\n",
        "            dict_whole[word] = emb1_list\n",
        "            my_output_file.write(word.strip() + \" \" + \" \".join(map(str, emb1_list)) + '\\n')\n",
        "            word = word_list.readline()\n",
        "    word_list.close()\n",
        "    with open(\"./word list/female.txt\", \"r\") as word_list:\n",
        "        word = word_list.readline()\n",
        "        while word:\n",
        "            word = word.strip()\n",
        "            if word == \"\": continue\n",
        "            emb1 = get_word_emb(word, tokenizer, model)\n",
        "            emb1_list = emb1.tolist()\n",
        "            dict_whole[word] = emb1_list\n",
        "            my_output_file.write(word.strip() + \" \" + \" \".join(map(str, emb1_list)) + '\\n')\n",
        "            word = word_list.readline()\n",
        "    word_list.close()\n",
        "    with open(\"./word list/professions.txt\", \"r\") as word_list:\n",
        "        word = word_list.readline()\n",
        "        while word:\n",
        "            word = word.strip()\n",
        "            if word == \"\": continue\n",
        "            emb1 = get_word_emb(word, tokenizer, model)\n",
        "            emb1_list = emb1.tolist()\n",
        "            dict_whole[word] = emb1_list\n",
        "            my_output_file.write(word.strip() + \" \" + \" \".join(map(str, emb1_list)) + '\\n')\n",
        "            word = word_list.readline()\n",
        "    word_list.close()\n",
        "my_output_file.close()\n"
      ],
      "metadata": {
        "id": "6TCuY3l8VVE2"
      },
      "execution_count": null,
      "outputs": []
    },
    {
      "cell_type": "code",
      "source": [
        "# make normalize file for whole_vectors_normalize.txt\n",
        "import numpy as np\n",
        "from numpy import linalg as LA\n",
        "import json\n",
        "\n",
        "def normalize(emb):\n",
        "    emb_keys = list(emb.keys())\n",
        "    emb_vals = np.array(list(emb.values()))\n",
        "    norms = np.apply_along_axis(LA.norm, 1, emb_vals)\n",
        "    emb_vals = emb_vals / norms[:, np.newaxis]\n",
        "    emb_norm = {}\n",
        "    for i in range(len(emb_keys)):\n",
        "        emb_norm[emb_keys[i]] = emb_vals[i]\n",
        "    return emb_norm\n",
        "\n",
        "dict_whole = normalize(dict_whole)\n",
        "\n",
        "with open(\"./word list/whole_vectors_normalize.txt\", \"w\") as my_output_file:\n",
        "    for k, v in dict_whole.items():\n",
        "        my_output_file.write(k.strip() + \" \" + \" \".join(map(str, v)) + '\\n')"
      ],
      "metadata": {
        "id": "ZxgdQD_8xu_s"
      },
      "execution_count": null,
      "outputs": []
    },
    {
      "cell_type": "code",
      "source": [
        "## make klue bert embeddings\n",
        "open_file = './word list/vocab.txt'\n",
        "output_file = \"./word list/klue_bert_vectors.txt\"\n",
        "dict_klue = {}\n",
        "with open(output_file, \"w\") as my_output_file:\n",
        "    with open(open_file, \"r\") as word_list:\n",
        "        word = word_list.readline()\n",
        "        while word:\n",
        "            word = word.strip()\n",
        "            # if not_proper(word): continue\n",
        "            if word == \"\": continue\n",
        "            emb1 = get_word_emb(word, tokenizer, model)\n",
        "            emb1_list = emb1.tolist()\n",
        "            dict_klue[word] = emb1_list\n",
        "            my_output_file.write(word.strip() + \" \" + \" \".join(map(str, emb1_list)) + '\\n')\n",
        "            word = word_list.readline()\n",
        "    word_list.close()\n",
        "my_output_file.close()"
      ],
      "metadata": {
        "id": "7HwNztEeuoIT"
      },
      "execution_count": null,
      "outputs": []
    },
    {
      "cell_type": "code",
      "source": [
        "# make klue_bert_vectors_normalize.txt\n",
        "dict_klue = normalize(dict_klue)\n",
        "with open(\"./word list/klue_bert_vectors_normalize.txt\", \"w\") as my_output_file:\n",
        "    for k, v in dict_klue.items():\n",
        "        my_output_file.write(k.strip() + \" \" + \" \".join(map(str, v)) + '\\n')\n"
      ],
      "metadata": {
        "id": "yMuBty8mFl0B"
      },
      "execution_count": null,
      "outputs": []
    },
    {
      "cell_type": "code",
      "source": [
        "# try to extract female definition words & male definition words\n",
        "def topKdict(space, k=200):\n",
        "    \n",
        "    # extract the word vector for word w\n",
        "    gender_direction = space['남성'] - space['여성']\n",
        "    sim = []\n",
        "    # compute similarity of w with all words in the vocabulary\n",
        "    dict_keys = list(space.keys())\n",
        "    for word in dict_keys:\n",
        "        sim.append(space[word].dot(gender_direction))\n",
        "    # sort similarities by descending order\n",
        "    sim_arr = np.array(sim)\n",
        "    sort_sim = (sim_arr.argsort())[::-1]\n",
        "\n",
        "    # choose topK\n",
        "    best = sort_sim[:k]\n",
        "\n",
        "    sort_sim = (sim_arr.argsort())\n",
        "    best = np.concatenate((best, sort_sim[:k]), axis=0)\n",
        "\n",
        "    extracted_dict = {}\n",
        "    for i in best:\n",
        "        extracted_dict[dict_keys[i]] = space[dict_keys[i]]\n",
        "\n",
        "\n",
        "    print(len(extracted_dict.keys()))\n",
        "    return extracted_dict\n",
        "\n",
        "top500 = topKdict(dict_klue, 500)"
      ],
      "metadata": {
        "colab": {
          "base_uri": "https://localhost:8080/"
        },
        "id": "YlGAiW2EGZ4p",
        "outputId": "33c5a5cd-123a-4fd9-f2e1-806b76bf2261"
      },
      "execution_count": null,
      "outputs": [
        {
          "output_type": "stream",
          "name": "stdout",
          "text": [
            "1000\n"
          ]
        }
      ]
    },
    {
      "cell_type": "code",
      "source": [
        "# the results\n",
        "top500.keys()"
      ],
      "metadata": {
        "colab": {
          "base_uri": "https://localhost:8080/"
        },
        "id": "ShRkLiZhHopA",
        "outputId": "568ba7e0-3fa6-4b2f-a76a-285c3f4dd2cd"
      },
      "execution_count": null,
      "outputs": [
        {
          "output_type": "execute_result",
          "data": {
            "text/plain": [
              "dict_keys(['남성', '앓', '형', '훈', '짭', 'u', '바짝', '병장', '휴', '헤', '할아버지', '육군', '우루', '상무', 'U', '왼', '口', '썩', '세정', '드러', '아우', '덥', '아프', '찡', '삐', '께', '퓨', '뒤', '졸', '남자', '오케', '으', '아악', '긁', '수성구', '어라', '쑤', 'ㅠㅜ', '그루', '이스트', '짝', '아재', '컴', '중령', '사납', '구강', '그지', '징', '우르', '쉰', '붐', '㎥', '꼬박', '고만', '빡', '자구', '헛', '흐', '욱', '뿌', '댕', '무거', '한발', 'gr', '허허', '00', '콰', '후후', '끙끙', '네에', '짠', '아아', '앗', '퉁', '쾌', '괴', '사내', 'ㅠ', '무서', '주경', '간질', '무겁', '축', '언더', '삭', '빨', '九', '투덜', '마는', '병무', '스콜', '씁', '동', '빠', '까먹', 'cl', '닷새', '男', '한결', '깔', '놨다', '아버님', '우', '부사장', '부들', '57', '조현', '아저씨', '혼내', '끄', '갸웃', '쪼', '조', '웅웅', '맨', '북구', '고스', '민원', '챙', '질질', '팔월', '상병', '꾹꾹', '‥', '군기', '달구', '연세', '허', '´', '씹', '아빠', '동아', '육', '헉', '1990', '딩', '중장', 'ㅤ', '아버지', 'a', '애로', '토해', '차장', '웅', '군', '됐', '귓', '드럼', 'ㅜ', '소년', '빨아들', '강관', '뺐', '이내', '칫', '△', '어른', '어렵', '사장', '피울', '아파', '도요', '움', '99', '사흘', '닥', '악', '청장', '오비', '왁', 'JS', '푹', '나흘', '두피', '94', '들어도', '버', '든다', '혼', '컥', '조장', '퍽', '김범', '그러다', '105', '기민', '급성', '5000', '데', '갸우뚱', '92', '95', '안', '철원', '짜', '주물', '커스', '내과', '어두', '꾸', 'h', '유스', '꼬집', '수컷', '대성', '심심', '어쩌', '삼촌', '동동', '이비', '뾰', 'z', '아부지', '좌중', '때리', '굴리', '투신', '딛', '털썩', '뿜', '힘드', '멘', '흘', '짱', '구가', '엄', '50', '대장', '크', 'ES', '금세', '선배', '0', '경비', '얼', '그러', '양성', '에워', '만석', '갑', '궈', '두들', '뺀', '사무관', '93', '좌', '타자', '55', '학생', 'ag', '벌컥', '시무', '젓', '|', '모으', '들린다', '연세대', '보합', '떨어졌', '할수록', '병자', '시끌', '들여', '괴롭히', '귀찮', '윽', '굳', '전산', '주무', '뽀', 'Z', '아하', '동부', '갱', '꿈틀', '때려', '야훼', '들이마', '약사', '어우', '장생', '무척', '동사', '던지', '후', '계세요', '양치', '비뇨', '장성', '동장', '총경', '아구', 'ㅈ', 'H', '뱉', '단단', '뜸', '페더', '쭈', '우라', '스카', '칭', '눕', '오싹', '잇몸', '딱딱', '억', '앵', '걸리', '싸우', '세탁기', '류성', '훼', '탄다', '듬', '으음', '신병', '남학생', '어서요', '언', '다그', '더더', '자', '짐', '번쩍', 'AB', '아유', '어휴', '혁', '일구', '두산', '굴러', '쫄', '넷', '툭', '동주', '휘청', '슥', '뚜', '부럽', '동구', '쏙', '으으', '유진', '오', '북돋', '놔', '음음', '걸린다', '알', '덜덜', '장년', 'Ac', 'Up', '왼발', '잔뜩', '헬', '어허', '으르', '힘들', '오븐', '금방', '비염', 'ㄷ', '멈칫', '무섭', '국방', '준호', '으응', '뭉', '퇴', '석사', '뚫', 'Gu', '대감', '지그', '앙', '자동', '관악구', '모아', '구불', '허허허', '2000', '조원진', '이케', '쏟아', '상민', '족', '헝', '그만', '깎', '다가', '에드', '재소', '흥', '더욱', '쉬', '김규', '형제', '주니어', 'f', '104', '101', '전자', '900', '직', '상체', '웅성', '육사', '아궁', '꿀꺽', '냉장', '포대', '걸려', '영덕', '기타', '어찌나', '신발', '뻣뻣', '엥', '求', '목사', '불기', '모을', '에르', '내야수', '괴로', '부릅니다', '더니', '뿜어내', '으흠', '히스', '청천', '민경', '묘하', '육성', '청년', '흥얼', '씩', '운문', '조교', '의장', '기울인다', '몹시', '뒤로', '홍천', '직진', '軍', '움찔', '내뿜', '흘러', '병', '어이', '뚝딱', 'Ad', '장군', '2200', 'J', '테너', 'g', '동서', '청', '쏟', '간지', '에반', '엄하', '단단히', '그리', '이석', '뒹', '안다', 'And', '오른손', '찌', '아뢰', '회사원', '크라', '넘어', '쑤셔', '하도', '구심', '개그맨', '벌', 'Joh', '의성', '강신', 'Cl', '뿍', '수트', '휘', '兵', '던졌', '열흘', '게르', '바싹', '두꺼', '편해', '쾅', 'j', '노고', '##에미리트', '그녀', '여성', '봄철', '##eauty', '아름다운', '##led', '##혜진', '아름다움', '##딸', '##여', '##rit', '##ley', '##아내리', '##라리', '##ile', '##le', '##빵', '##iel', '##ard', '##iti', '##레나', '##art', '##미스', '##ield', '무화과', '##ll', '벽지', '##아내', '##리나', '##치마', '##red', '놀라운', '##ara', '##line', '##미', '식물원', '##룩', '비키니', '##ledge', '##자매', '##라이나', 'ootd', '딸기', '##보리', '##공간', '##암리', '##ike', '미인', '##arket', '##와이', '페미', '뷰티', '##슬로', '##식물', '##ri', '##르바', '女', '##les', '##꽃', '##미애', '##ich', '##ld', '##ive', '##iet', '스커트', '##루미', '##ris', '##ree', '관능', '원피스', '##은이', '##콜리', '예술', '##ite', '여자', '##부인과', '##진보', '##실베이니아', '##lex', '여배우', '##공주', '##ii', '##irect', '##봉사', '##메리카', '##ore', '##ill', '##로나', '##슬리', '##ord', '##ility', '##사랑', '##옷', '##파리', '##러리', '##베리', '##생명', '보라색', '##fit', '채소', '##뷰', 'Paris', '##ie', '##ine', '##l', '##베리아', '##ravel', '##책', '##라비아', '##ery', '파라다이스', '##주부', '##인권', '여인', '##안전', '##ire', '##살렘', '##book', '##riv', '##기록', '페미니즘', '##iness', '##ble', '##라이', '##예술', '##lic', '##rist', '##셀', '##iff', '##land', '##리에이션', '##린다', '##스포츠', '##미아', '##이브', '##달', '##봄', '##센티브', '##ople', '##로운', '##티나', '##레미', '##엄마', '##리지', '##랑이', '마카롱', '##뜨리', '##evel', '##지부지', '##테리아', '花', '유기농', '##ience', '##은색', '##스테르담', '##모리', '##ital', '송혜교', '##색', '##tit', '##ium', '##LL', '##ition', '##립', '햇살', '##il', '##ice', '##ipp', '##che', '##fl', '##플레이션', '##투리', '##ior', '##르타', '장소', '##르도', '##라이어티', '##메이션', '##교사', '##시스트', '초여름', '##i', '##노미', '##row', '##ild', '##렉트', '##rap', '##슬기', '##my', '##ulture', '##iety', '##yle', '##ity', '##rat', '##in', '##ati', '##케이크', '##베이션', '##타임', '##비치', '##여대', '##랑카', '##셀로나', '##레라', '##다임', '##⠀', '##혜영', '##퍼런스', '##me', '##섬', '##릴라', '페미니스트', '낙태', '##ret', '##ia', '##따리', '##아트', '##세계', '봄날', '##린트', '##가지', '##마리', 'dieter', '##선미', '##아티아', '##지부', '샐러드', '##ly', '로맨틱', '##키아', '##able', '##배우', '##보라', '##트리', '##ina', '##베이', '##LPGA', '##수엘라', '##ory', '레이디스', '##꾸미', '##ise', '##ion', '아내', '##애나', '##티', '##메이트', '##리케이션', '##러미', '##테이션', '##데이트', '##소통', '##작', '화려', '##스테이', '##lect', '##읽기', '##걸이', '##food', '##실베이', '##ra', '##칼리', '##ib', '권리', '##맞이', '목련', '##양이', '##바다', '아름다워', '##리그', '##스타일', '##서니', '##드라마', '##은희', '케이트', '럭셔리', '##빛', '글쓰기', '##순간', '##타나', '공효진', '##미술', '##orea', '##re', '##사진', '##음식', '##수수색', '##절기', '미스', '##here', '##정권', '##cess', '##노당', '##iv', '##ti', '꽃', '##노', '##슬레이', '##itt', '##쁘', '##ope', '##피스', '안희정', '몸매', '##산리', '##파이', '##여왕', '철쭉', '##흰', '##레', '##부인', '##런트', '##its', '##레타', '##ler', 'love', '##터리', '##나연', '색채', '공간', '##ration', '충청남도', '##사키', '##ace', '##르', '272', '##겹살', '##ix', '##볶이', '##우먼', '##살', '##르크', '##LE', '##애플', '##티티', '##르트', '##반도', '##포도', '##말리아', '##석희', '청순', '##반짝', '##ad', '##나비', '##시간', '##레타리아', '##아이', '##sp', '##스트로', '##ial', '##ities', '센터', '##tis', '##셔리', '##그림', '사회주의', '##ime', '낙원', '##르르', '##세이', '##ship', '##줌', '##과이', '##이치', '##란도', 'instagood', '##슐리', '##누리', '##새', '리츠', '##달리', '##it', '저탄소', '##별', '##계리', '##ary', '말차', '##모니', '아름답', '##센터', '##por', '##ip', '##샐', '##플레이', '##문학', '##민주당', '##그레이드', '##혜원', '##모더니즘', '##무라', '##관리위원회', '여주인공', '생명체', '블루베리', '##차', '##영향평가', '걸스', '##카메라', '##ature', '부여', '##캣', '##걸스', '디저트', '러블리', '##겨울', '혜화', '평등', '##가정', '##작물', '##르드', '미술', '##영화', '##ilm', '김연아', '##민주', '미모', '##루스', '##une', '피겨', '##코스', '지식', '##퀸', '##르트르', '##카페', '##샤브', '##루션', '##tice', '메이크업', '##iation', '##가드', '##오롱', '##나다', '벚꽃', '드레스', '##리아', '예쁜', '##예진', '##첫', '##키지', '##rip', '##평가', '##삶', '여백', '##icy', '##res', '통치자', '-', '멋진', '##도니아', '##가리', '##ate', '당원', '##폴리', '스타일링', '##oint', '##솜', '##ely', '##리트', '##ry', '##보레', '##찍', '##크라이나', '##곡리', '##IB', '##런', '##저나', '##ross', '##ability', '##복음', '##인물', '인테리어', '##소설', '##린다는', '##rib', '##수영', '##티지', '녹색', '##ision', '##진보당', '충남', '시크릿', '##쑥', '##지사', '##가슴', '스타일리시', '##이어티', '##모스', '##LO', '##커트', '##op', '_', '##해', '칼로리', '##달콤', '미셸', '창조성', '##급식', '##all', '장식'])"
            ]
          },
          "metadata": {},
          "execution_count": 173
        }
      ]
    },
    {
      "cell_type": "markdown",
      "source": [
        "# Apply HSR methods"
      ],
      "metadata": {
        "id": "F9bIfSw4dMJR"
      }
    },
    {
      "cell_type": "code",
      "execution_count": null,
      "metadata": {
        "id": "BmzPuI6zuDsq"
      },
      "outputs": [],
      "source": [
        "import numpy as np\n",
        "import scipy, requests, codecs, os, re, nltk, itertools, csv\n",
        "from sklearn.metrics.pairwise import cosine_similarity\n",
        "import tensorflow as tf\n",
        "from scipy.stats import spearmanr\n",
        "import pandas as pd\n",
        "import functools as ft\n",
        "from sklearn.decomposition import PCA\n",
        "from sklearn.preprocessing import normalize\n",
        "import gdown"
      ]
    },
    {
      "cell_type": "code",
      "execution_count": null,
      "metadata": {
        "id": "rOkzZxeVuDss",
        "colab": {
          "base_uri": "https://localhost:8080/"
        },
        "outputId": "823dc0b8-5ee0-488a-bd23-0b58821b09f8"
      },
      "outputs": [
        {
          "output_type": "stream",
          "name": "stdout",
          "text": [
            "[PAD] (768,)\n"
          ]
        }
      ],
      "source": [
        "def loadWordVecs(model_str):\n",
        "    word_dictionary = {}\n",
        "    \n",
        "    input_file_destination = model_str\n",
        "\n",
        "    # f = codecs.open(input_file_destination, 'r', 'utf-8')\n",
        "    f = codecs.open(input_file_destination, 'r') \n",
        "    x = 0\n",
        "    \n",
        "    count = 0\n",
        "    for line in f:\n",
        "        count +=1\n",
        "        line = line.split(\" \", 1)\n",
        "        if len(line) != 2:\n",
        "            print(count)\n",
        "            continue\n",
        "        transformed_key = line[0]\n",
        "\n",
        "        try:\n",
        "            transformed_key = str(transformed_key)\n",
        "\n",
        "        except:\n",
        "            print(\"Can't convert the key to unicode:\", transformed_key)\n",
        "\n",
        "        word_dictionary[transformed_key] = np.fromstring(line[1], dtype=\"float32\", sep=\" \")\n",
        "\n",
        "        if word_dictionary[transformed_key].shape[0] != 300 and x == 0:\n",
        "            print(transformed_key, word_dictionary[transformed_key].shape)\n",
        "            x += 1\n",
        "\n",
        "    return  word_dictionary     \n",
        "\n",
        "orig_glove = loadWordVecs('./word list/klue_bert_vectors_normalize.txt')    # Change path in this line \"./word list/whole_vectors_normalize.txt\" or './word list/klue_bert_vectors_normalize.txt'"
      ]
    },
    {
      "cell_type": "code",
      "execution_count": null,
      "metadata": {
        "colab": {
          "base_uri": "https://localhost:8080/"
        },
        "id": "tuZDdB1RuDst",
        "outputId": "9ad6910c-4410-4328-d9fa-722eaf2daf60"
      },
      "outputs": [
        {
          "output_type": "execute_result",
          "data": {
            "text/plain": [
              "32000"
            ]
          },
          "metadata": {},
          "execution_count": 178
        }
      ],
      "source": [
        "len(orig_glove)"
      ]
    },
    {
      "cell_type": "markdown",
      "metadata": {
        "id": "GrqoGDBTuDsu"
      },
      "source": [
        "# Load gender words"
      ]
    },
    {
      "cell_type": "code",
      "execution_count": null,
      "metadata": {
        "id": "DtkZuN4XuDsu"
      },
      "outputs": [],
      "source": [
        "female_word = []\n",
        "with open('./word list/female.txt', \"r+\") as f_in:\n",
        "    for line in f_in:\n",
        "        female_word.append(line.replace('\\n',''))   \n",
        "\n",
        "male_word = []\n",
        "with open('./word list/male.txt', \"r+\") as f_in:\n",
        "    for line in f_in:\n",
        "        male_word.append(line.replace('\\n','')) "
      ]
    },
    {
      "cell_type": "markdown",
      "metadata": {
        "id": "q_h8F5N0uDsv"
      },
      "source": [
        "# Generate gender direction"
      ]
    },
    {
      "cell_type": "code",
      "execution_count": null,
      "metadata": {
        "id": "-FDxP2nsuDsv"
      },
      "outputs": [],
      "source": [
        "gender_direction = orig_glove['남성'] - orig_glove['여성']"
      ]
    },
    {
      "cell_type": "code",
      "execution_count": null,
      "metadata": {
        "id": "ZWXTEDHiuDsw",
        "outputId": "8e56c95e-0dc2-477a-8fea-602e2cf2346d",
        "colab": {
          "base_uri": "https://localhost:8080/"
        }
      },
      "outputs": [
        {
          "output_type": "execute_result",
          "data": {
            "text/plain": [
              "array([[-0.0075374]], dtype=float32)"
            ]
          },
          "metadata": {},
          "execution_count": 181
        }
      ],
      "source": [
        "# some examples in the paper\n",
        "# 기존에 -0.2145\n",
        "cosine_similarity(orig_glove['간호사'].reshape(1,-1), gender_direction.reshape(1,-1))"
      ]
    },
    {
      "cell_type": "code",
      "execution_count": null,
      "metadata": {
        "id": "nspHG-_AuDsw",
        "outputId": "9d64e17a-dab9-4617-b1b0-8655f66af811",
        "colab": {
          "base_uri": "https://localhost:8080/"
        }
      },
      "outputs": [
        {
          "output_type": "execute_result",
          "data": {
            "text/plain": [
              "array([[0.10877921]], dtype=float32)"
            ]
          },
          "metadata": {},
          "execution_count": 184
        }
      ],
      "source": [
        "# 0.183\n",
        "cosine_similarity(orig_glove['병장'].reshape(1,-1), gender_direction.reshape(1,-1))"
      ]
    },
    {
      "cell_type": "code",
      "execution_count": null,
      "metadata": {
        "id": "I-M2Ugh5uDsx",
        "outputId": "e256ebd7-84c3-4aea-f749-31907efea47b",
        "colab": {
          "base_uri": "https://localhost:8080/"
        }
      },
      "outputs": [
        {
          "output_type": "execute_result",
          "data": {
            "text/plain": [
              "array([[-0.12396468]], dtype=float32)"
            ]
          },
          "metadata": {},
          "execution_count": 186
        }
      ],
      "source": [
        "# 0.00458\n",
        "cosine_similarity(orig_glove['딸기'].reshape(1,-1), gender_direction.reshape(1,-1))"
      ]
    },
    {
      "cell_type": "code",
      "execution_count": null,
      "metadata": {
        "id": "X-DnYJtVuDsx",
        "outputId": "1bdb1f18-1a31-48ca-87fb-e81a7349dda5",
        "colab": {
          "base_uri": "https://localhost:8080/"
        }
      },
      "outputs": [
        {
          "output_type": "execute_result",
          "data": {
            "text/plain": [
              "array([[0.8160691]], dtype=float32)"
            ]
          },
          "metadata": {},
          "execution_count": 57
        }
      ],
      "source": [
        "# 0.2728\n",
        "cosine_similarity(orig_glove['노래'].reshape(1,-1),orig_glove['간호사'].reshape(1,-1))"
      ]
    },
    {
      "cell_type": "code",
      "execution_count": null,
      "metadata": {
        "id": "--JgB9qIuDsx",
        "outputId": "068d71cf-9979-411a-ac75-7302c94e2d8a",
        "colab": {
          "base_uri": "https://localhost:8080/"
        }
      },
      "outputs": [
        {
          "output_type": "execute_result",
          "data": {
            "text/plain": [
              "array([[0.8068277]], dtype=float32)"
            ]
          },
          "metadata": {},
          "execution_count": 58
        }
      ],
      "source": [
        "#0.089\n",
        "cosine_similarity(orig_glove['노래'].reshape(1,-1), orig_glove['대령'].reshape(1,-1))"
      ]
    },
    {
      "cell_type": "markdown",
      "metadata": {
        "id": "is5xZ0kyuDsy"
      },
      "source": [
        "# Gender-bias word relation tasks"
      ]
    },
    {
      "cell_type": "markdown",
      "metadata": {
        "id": "HvtiKX_VuDsy"
      },
      "source": [
        "## Gender-definition and non-gender-definition words"
      ]
    },
    {
      "cell_type": "code",
      "execution_count": null,
      "metadata": {
        "id": "oOIeKJj7uDsz"
      },
      "outputs": [],
      "source": [
        "gender_list = female_word + male_word\n",
        "nongender_list = list(set(orig_glove.keys() ) - set(gender_list))"
      ]
    },
    {
      "cell_type": "code",
      "execution_count": null,
      "metadata": {
        "id": "99hd2_d6uDsz"
      },
      "outputs": [],
      "source": [
        "def ensemble_wordvec_mat(wordVecModel_str, wordList):\n",
        "    \n",
        "    wordvecDict = eval(wordVecModel_str)\n",
        "    \n",
        "    feasibleWordList = list(set(wordvecDict.keys()) & set(wordList))\n",
        "        \n",
        "    x_collector = []\n",
        "    newDict = {}\n",
        "    for word in feasibleWordList:\n",
        "        if len(wordvecDict[word]) == 768:\n",
        "            x_collector.append(wordvecDict[word])\n",
        "            newDict[word] = wordvecDict[word][:]        \n",
        "    x_collector = np.array(x_collector).T    \n",
        "    \n",
        "    return newDict, x_collector"
      ]
    },
    {
      "cell_type": "code",
      "execution_count": null,
      "metadata": {
        "id": "BRfYB6uKuDs0"
      },
      "outputs": [],
      "source": [
        "_, GenderVecs_glove = ensemble_wordvec_mat('orig_glove', gender_list)\n",
        "nonGenderDict_glove, nonGenderVecs_glove = ensemble_wordvec_mat('orig_glove', nongender_list)"
      ]
    },
    {
      "cell_type": "code",
      "source": [
        "print(len(gender_list))\n",
        "print(len(nongender_list))"
      ],
      "metadata": {
        "colab": {
          "base_uri": "https://localhost:8080/"
        },
        "id": "rGJQgZTa5efV",
        "outputId": "ef40f3a4-ca50-4a88-bc1c-63ffcb8b9aca"
      },
      "execution_count": null,
      "outputs": [
        {
          "output_type": "stream",
          "name": "stdout",
          "text": [
            "66\n",
            "31953\n"
          ]
        }
      ]
    },
    {
      "cell_type": "code",
      "source": [
        "print(GenderVecs_glove.shape)\n",
        "print(nonGenderVecs_glove.shape)\n",
        "print(len(nonGenderDict_glove))"
      ],
      "metadata": {
        "colab": {
          "base_uri": "https://localhost:8080/"
        },
        "id": "VclO-QM85FHO",
        "outputId": "fe63ea73-d5b9-48f7-c6b4-3ec79c48163c"
      },
      "execution_count": null,
      "outputs": [
        {
          "output_type": "stream",
          "name": "stdout",
          "text": [
            "(768, 47)\n",
            "(768, 31953)\n",
            "31953\n"
          ]
        }
      ]
    },
    {
      "cell_type": "markdown",
      "metadata": {
        "id": "v7cU8eSbuDs0"
      },
      "source": [
        "# Half-Sibling Regression GloVe"
      ]
    },
    {
      "cell_type": "code",
      "execution_count": null,
      "metadata": {
        "id": "nigwQMlZuDs1"
      },
      "outputs": [],
      "source": [
        "def Half_Sibling_Regression(GenderVecs, nonGenderVecs, nonGenderDict):\n",
        "    alpha = 0.01 # ridge regression parameter\n",
        "    \n",
        "    W = np.linalg.inv(GenderVecs.T @ GenderVecs + alpha * np.eye(GenderVecs.shape[1])) @ GenderVecs.T @ nonGenderVecs\n",
        "    W = np.array(W)\n",
        "    \n",
        "    prediction = GenderVecs @ W\n",
        "    \n",
        "    post_nonGenderVecs = nonGenderVecs  - prediction # modify those non-stop words\n",
        "\n",
        "    post_nonGenderDict = nonGenderDict.copy() # copy the dictionary of non-stop words\n",
        "    \n",
        "    keys = list(post_nonGenderDict.keys())\n",
        "    for i in range(0,len(keys)):\n",
        "        post_nonGenderDict[keys[i]] = post_nonGenderVecs[:, i] # update the modified non-stop words\n",
        "    \n",
        "    \n",
        "    return post_nonGenderDict"
      ]
    },
    {
      "cell_type": "code",
      "execution_count": null,
      "metadata": {
        "id": "-kVYf4HEuDs1"
      },
      "outputs": [],
      "source": [
        "post_nonGenderDict_glove = Half_Sibling_Regression(GenderVecs_glove, nonGenderVecs_glove, nonGenderDict_glove)"
      ]
    },
    {
      "cell_type": "code",
      "execution_count": null,
      "metadata": {
        "id": "9MIYq2nAuDs2"
      },
      "outputs": [],
      "source": [
        "# copy the modified non-gender-definition words back to the dataset with gender-definition words\n",
        "    \n",
        "post_glove = orig_glove.copy()\n",
        "\n",
        "for w in post_nonGenderDict_glove.keys():\n",
        "    post_glove[w] = post_nonGenderDict_glove[w]"
      ]
    },
    {
      "cell_type": "code",
      "execution_count": null,
      "metadata": {
        "id": "9-BpngKOuDs2",
        "outputId": "c92c6b01-5488-4414-a1e3-edc4d67bc046",
        "colab": {
          "base_uri": "https://localhost:8080/"
        }
      },
      "outputs": [
        {
          "output_type": "stream",
          "name": "stdout",
          "text": [
            "Orig:  [[-0.04800827]]\n",
            "Post:  [[-0.02185537]]\n"
          ]
        }
      ],
      "source": [
        "test_word = '주부'\n",
        "\n",
        "print('Orig: ', cosine_similarity(orig_glove[test_word].reshape(1,-1), gender_direction.reshape(1,-1)))\n",
        "print('Post: ', cosine_similarity(post_glove[test_word].reshape(1,-1), gender_direction.reshape(1,-1)))"
      ]
    },
    {
      "cell_type": "code",
      "source": [
        "test_word = '교수'\n",
        "\n",
        "print('Orig: ', cosine_similarity(orig_glove[test_word].reshape(1,-1), gender_direction.reshape(1,-1)))\n",
        "print('Post: ', cosine_similarity(post_glove[test_word].reshape(1,-1), gender_direction.reshape(1,-1)))"
      ],
      "metadata": {
        "colab": {
          "base_uri": "https://localhost:8080/"
        },
        "id": "iV8mlgwN96YC",
        "outputId": "80dd9895-d47f-4ce7-996d-521ff194b601"
      },
      "execution_count": null,
      "outputs": [
        {
          "output_type": "stream",
          "name": "stdout",
          "text": [
            "Orig:  [[0.04030015]]\n",
            "Post:  [[-0.00668019]]\n"
          ]
        }
      ]
    },
    {
      "cell_type": "code",
      "source": [
        "test_word = '병장'\n",
        "\n",
        "print('Orig: ', cosine_similarity(orig_glove[test_word].reshape(1,-1), gender_direction.reshape(1,-1)))\n",
        "print('Post: ', cosine_similarity(post_glove[test_word].reshape(1,-1), gender_direction.reshape(1,-1)))"
      ],
      "metadata": {
        "colab": {
          "base_uri": "https://localhost:8080/"
        },
        "id": "FFDvaPd1AN0M",
        "outputId": "63c1edd7-a511-46cc-ed0e-f7b7b7ad0c42"
      },
      "execution_count": null,
      "outputs": [
        {
          "output_type": "stream",
          "name": "stdout",
          "text": [
            "Orig:  [[0.10877921]]\n",
            "Post:  [[0.02709826]]\n"
          ]
        }
      ]
    },
    {
      "cell_type": "code",
      "source": [
        "test_word = '딸기'\n",
        "\n",
        "print('Orig: ', cosine_similarity(orig_glove[test_word].reshape(1,-1), gender_direction.reshape(1,-1)))\n",
        "print('Post: ', cosine_similarity(post_glove[test_word].reshape(1,-1), gender_direction.reshape(1,-1)))"
      ],
      "metadata": {
        "colab": {
          "base_uri": "https://localhost:8080/"
        },
        "id": "pN0Yuy25Ayxi",
        "outputId": "ea9fa581-4043-4ee8-8fe1-055aad0f707d"
      },
      "execution_count": null,
      "outputs": [
        {
          "output_type": "stream",
          "name": "stdout",
          "text": [
            "Orig:  [[-0.12396468]]\n",
            "Post:  [[-0.02954513]]\n"
          ]
        }
      ]
    },
    {
      "cell_type": "code",
      "execution_count": null,
      "metadata": {
        "id": "2_DRsN4iuDs3",
        "outputId": "4589ccaf-ec6e-48e8-9115-1b6617385573",
        "colab": {
          "base_uri": "https://localhost:8080/"
        }
      },
      "outputs": [
        {
          "output_type": "stream",
          "name": "stdout",
          "text": [
            "writing to ./hsr_klue_bert_vectors_normalize.txt\n"
          ]
        }
      ],
      "source": [
        "# save word vector\n",
        "def save_wv(word_vector_str):\n",
        "    \n",
        "    word_dictionary = eval(word_vector_str)\n",
        "    \n",
        "    ListWords = list(word_dictionary.keys())\n",
        "\n",
        "    print('writing to', './word list/hsr_klue_bert_vectors_normalize.txt')    # change the save path './word list/hsr_klue_bert_vectors_normalize.txt' or './word list/hsr_whole_normalize_vectors.txt'\n",
        "\n",
        "    with open('./word list/hsr_klue_bert_vectors_normalize.txt', 'w') as the_file:    # change the save path './word list/hsr_klue_bert_vectors_normalize.txt' or './word list/hsr_whole_normalize_vectors.txt'\n",
        "        for word in ListWords:\n",
        "\n",
        "            wordVec = word_dictionary[word]\n",
        "            wordVecString = \" \".join(str(x) for x in wordVec)\n",
        "\n",
        "            the_file.write(word + ' ' + wordVecString  + '\\n')\n",
        "\n",
        "save_wv('post_glove')"
      ]
    }
  ],
  "metadata": {
    "kernelspec": {
      "display_name": "Python 3",
      "language": "python",
      "name": "python3"
    },
    "language_info": {
      "codemirror_mode": {
        "name": "ipython",
        "version": 3
      },
      "file_extension": ".py",
      "mimetype": "text/x-python",
      "name": "python",
      "nbconvert_exporter": "python",
      "pygments_lexer": "ipython3",
      "version": "3.6.9"
    },
    "colab": {
      "name": "HSR-GloVe_Gender Direction Relation_&_Lexical- and Sentence-Level Evaluation.ipynb",
      "provenance": [],
      "collapsed_sections": []
    },
    "widgets": {
      "application/vnd.jupyter.widget-state+json": {
        "5bc0b372a5524ecbb353f168043d56d4": {
          "model_module": "@jupyter-widgets/controls",
          "model_name": "HBoxModel",
          "model_module_version": "1.5.0",
          "state": {
            "_dom_classes": [],
            "_model_module": "@jupyter-widgets/controls",
            "_model_module_version": "1.5.0",
            "_model_name": "HBoxModel",
            "_view_count": null,
            "_view_module": "@jupyter-widgets/controls",
            "_view_module_version": "1.5.0",
            "_view_name": "HBoxView",
            "box_style": "",
            "children": [
              "IPY_MODEL_22cb9e9694404863b643f37bd94e639d",
              "IPY_MODEL_a1ae095aa369497e8be7ed2226773a2c",
              "IPY_MODEL_84c17bbe775843288c948d81a8575a32"
            ],
            "layout": "IPY_MODEL_ca05c31760be48b193c519cda82c48ad"
          }
        },
        "22cb9e9694404863b643f37bd94e639d": {
          "model_module": "@jupyter-widgets/controls",
          "model_name": "HTMLModel",
          "model_module_version": "1.5.0",
          "state": {
            "_dom_classes": [],
            "_model_module": "@jupyter-widgets/controls",
            "_model_module_version": "1.5.0",
            "_model_name": "HTMLModel",
            "_view_count": null,
            "_view_module": "@jupyter-widgets/controls",
            "_view_module_version": "1.5.0",
            "_view_name": "HTMLView",
            "description": "",
            "description_tooltip": null,
            "layout": "IPY_MODEL_bc13dab876ba409fa3d15447ddf5da91",
            "placeholder": "​",
            "style": "IPY_MODEL_4c399007e5a842a2ba34b8148c99f661",
            "value": "Downloading: 100%"
          }
        },
        "a1ae095aa369497e8be7ed2226773a2c": {
          "model_module": "@jupyter-widgets/controls",
          "model_name": "FloatProgressModel",
          "model_module_version": "1.5.0",
          "state": {
            "_dom_classes": [],
            "_model_module": "@jupyter-widgets/controls",
            "_model_module_version": "1.5.0",
            "_model_name": "FloatProgressModel",
            "_view_count": null,
            "_view_module": "@jupyter-widgets/controls",
            "_view_module_version": "1.5.0",
            "_view_name": "ProgressView",
            "bar_style": "success",
            "description": "",
            "description_tooltip": null,
            "layout": "IPY_MODEL_79c39021f70f4e4e9c2e0d8781f8d935",
            "max": 425,
            "min": 0,
            "orientation": "horizontal",
            "style": "IPY_MODEL_19bade9927fb46fc80f3ff3e1ec6d38c",
            "value": 425
          }
        },
        "84c17bbe775843288c948d81a8575a32": {
          "model_module": "@jupyter-widgets/controls",
          "model_name": "HTMLModel",
          "model_module_version": "1.5.0",
          "state": {
            "_dom_classes": [],
            "_model_module": "@jupyter-widgets/controls",
            "_model_module_version": "1.5.0",
            "_model_name": "HTMLModel",
            "_view_count": null,
            "_view_module": "@jupyter-widgets/controls",
            "_view_module_version": "1.5.0",
            "_view_name": "HTMLView",
            "description": "",
            "description_tooltip": null,
            "layout": "IPY_MODEL_a167ea086dba40b98daa5b0935ba50ae",
            "placeholder": "​",
            "style": "IPY_MODEL_1b286cb1b3cf483dab2f462d6c171640",
            "value": " 425/425 [00:00&lt;00:00, 9.49kB/s]"
          }
        },
        "ca05c31760be48b193c519cda82c48ad": {
          "model_module": "@jupyter-widgets/base",
          "model_name": "LayoutModel",
          "model_module_version": "1.2.0",
          "state": {
            "_model_module": "@jupyter-widgets/base",
            "_model_module_version": "1.2.0",
            "_model_name": "LayoutModel",
            "_view_count": null,
            "_view_module": "@jupyter-widgets/base",
            "_view_module_version": "1.2.0",
            "_view_name": "LayoutView",
            "align_content": null,
            "align_items": null,
            "align_self": null,
            "border": null,
            "bottom": null,
            "display": null,
            "flex": null,
            "flex_flow": null,
            "grid_area": null,
            "grid_auto_columns": null,
            "grid_auto_flow": null,
            "grid_auto_rows": null,
            "grid_column": null,
            "grid_gap": null,
            "grid_row": null,
            "grid_template_areas": null,
            "grid_template_columns": null,
            "grid_template_rows": null,
            "height": null,
            "justify_content": null,
            "justify_items": null,
            "left": null,
            "margin": null,
            "max_height": null,
            "max_width": null,
            "min_height": null,
            "min_width": null,
            "object_fit": null,
            "object_position": null,
            "order": null,
            "overflow": null,
            "overflow_x": null,
            "overflow_y": null,
            "padding": null,
            "right": null,
            "top": null,
            "visibility": null,
            "width": null
          }
        },
        "bc13dab876ba409fa3d15447ddf5da91": {
          "model_module": "@jupyter-widgets/base",
          "model_name": "LayoutModel",
          "model_module_version": "1.2.0",
          "state": {
            "_model_module": "@jupyter-widgets/base",
            "_model_module_version": "1.2.0",
            "_model_name": "LayoutModel",
            "_view_count": null,
            "_view_module": "@jupyter-widgets/base",
            "_view_module_version": "1.2.0",
            "_view_name": "LayoutView",
            "align_content": null,
            "align_items": null,
            "align_self": null,
            "border": null,
            "bottom": null,
            "display": null,
            "flex": null,
            "flex_flow": null,
            "grid_area": null,
            "grid_auto_columns": null,
            "grid_auto_flow": null,
            "grid_auto_rows": null,
            "grid_column": null,
            "grid_gap": null,
            "grid_row": null,
            "grid_template_areas": null,
            "grid_template_columns": null,
            "grid_template_rows": null,
            "height": null,
            "justify_content": null,
            "justify_items": null,
            "left": null,
            "margin": null,
            "max_height": null,
            "max_width": null,
            "min_height": null,
            "min_width": null,
            "object_fit": null,
            "object_position": null,
            "order": null,
            "overflow": null,
            "overflow_x": null,
            "overflow_y": null,
            "padding": null,
            "right": null,
            "top": null,
            "visibility": null,
            "width": null
          }
        },
        "4c399007e5a842a2ba34b8148c99f661": {
          "model_module": "@jupyter-widgets/controls",
          "model_name": "DescriptionStyleModel",
          "model_module_version": "1.5.0",
          "state": {
            "_model_module": "@jupyter-widgets/controls",
            "_model_module_version": "1.5.0",
            "_model_name": "DescriptionStyleModel",
            "_view_count": null,
            "_view_module": "@jupyter-widgets/base",
            "_view_module_version": "1.2.0",
            "_view_name": "StyleView",
            "description_width": ""
          }
        },
        "79c39021f70f4e4e9c2e0d8781f8d935": {
          "model_module": "@jupyter-widgets/base",
          "model_name": "LayoutModel",
          "model_module_version": "1.2.0",
          "state": {
            "_model_module": "@jupyter-widgets/base",
            "_model_module_version": "1.2.0",
            "_model_name": "LayoutModel",
            "_view_count": null,
            "_view_module": "@jupyter-widgets/base",
            "_view_module_version": "1.2.0",
            "_view_name": "LayoutView",
            "align_content": null,
            "align_items": null,
            "align_self": null,
            "border": null,
            "bottom": null,
            "display": null,
            "flex": null,
            "flex_flow": null,
            "grid_area": null,
            "grid_auto_columns": null,
            "grid_auto_flow": null,
            "grid_auto_rows": null,
            "grid_column": null,
            "grid_gap": null,
            "grid_row": null,
            "grid_template_areas": null,
            "grid_template_columns": null,
            "grid_template_rows": null,
            "height": null,
            "justify_content": null,
            "justify_items": null,
            "left": null,
            "margin": null,
            "max_height": null,
            "max_width": null,
            "min_height": null,
            "min_width": null,
            "object_fit": null,
            "object_position": null,
            "order": null,
            "overflow": null,
            "overflow_x": null,
            "overflow_y": null,
            "padding": null,
            "right": null,
            "top": null,
            "visibility": null,
            "width": null
          }
        },
        "19bade9927fb46fc80f3ff3e1ec6d38c": {
          "model_module": "@jupyter-widgets/controls",
          "model_name": "ProgressStyleModel",
          "model_module_version": "1.5.0",
          "state": {
            "_model_module": "@jupyter-widgets/controls",
            "_model_module_version": "1.5.0",
            "_model_name": "ProgressStyleModel",
            "_view_count": null,
            "_view_module": "@jupyter-widgets/base",
            "_view_module_version": "1.2.0",
            "_view_name": "StyleView",
            "bar_color": null,
            "description_width": ""
          }
        },
        "a167ea086dba40b98daa5b0935ba50ae": {
          "model_module": "@jupyter-widgets/base",
          "model_name": "LayoutModel",
          "model_module_version": "1.2.0",
          "state": {
            "_model_module": "@jupyter-widgets/base",
            "_model_module_version": "1.2.0",
            "_model_name": "LayoutModel",
            "_view_count": null,
            "_view_module": "@jupyter-widgets/base",
            "_view_module_version": "1.2.0",
            "_view_name": "LayoutView",
            "align_content": null,
            "align_items": null,
            "align_self": null,
            "border": null,
            "bottom": null,
            "display": null,
            "flex": null,
            "flex_flow": null,
            "grid_area": null,
            "grid_auto_columns": null,
            "grid_auto_flow": null,
            "grid_auto_rows": null,
            "grid_column": null,
            "grid_gap": null,
            "grid_row": null,
            "grid_template_areas": null,
            "grid_template_columns": null,
            "grid_template_rows": null,
            "height": null,
            "justify_content": null,
            "justify_items": null,
            "left": null,
            "margin": null,
            "max_height": null,
            "max_width": null,
            "min_height": null,
            "min_width": null,
            "object_fit": null,
            "object_position": null,
            "order": null,
            "overflow": null,
            "overflow_x": null,
            "overflow_y": null,
            "padding": null,
            "right": null,
            "top": null,
            "visibility": null,
            "width": null
          }
        },
        "1b286cb1b3cf483dab2f462d6c171640": {
          "model_module": "@jupyter-widgets/controls",
          "model_name": "DescriptionStyleModel",
          "model_module_version": "1.5.0",
          "state": {
            "_model_module": "@jupyter-widgets/controls",
            "_model_module_version": "1.5.0",
            "_model_name": "DescriptionStyleModel",
            "_view_count": null,
            "_view_module": "@jupyter-widgets/base",
            "_view_module_version": "1.2.0",
            "_view_name": "StyleView",
            "description_width": ""
          }
        },
        "77b49363bd334adbabcd083713a00b48": {
          "model_module": "@jupyter-widgets/controls",
          "model_name": "HBoxModel",
          "model_module_version": "1.5.0",
          "state": {
            "_dom_classes": [],
            "_model_module": "@jupyter-widgets/controls",
            "_model_module_version": "1.5.0",
            "_model_name": "HBoxModel",
            "_view_count": null,
            "_view_module": "@jupyter-widgets/controls",
            "_view_module_version": "1.5.0",
            "_view_name": "HBoxView",
            "box_style": "",
            "children": [
              "IPY_MODEL_09c3c6189df14d45ab4fac12ec9518a8",
              "IPY_MODEL_16268203384a4967bdf2b95dd29e3b86",
              "IPY_MODEL_cc2563a912be4976865dddc2b739679e"
            ],
            "layout": "IPY_MODEL_de371b270bba4d82b9489715d89f5df6"
          }
        },
        "09c3c6189df14d45ab4fac12ec9518a8": {
          "model_module": "@jupyter-widgets/controls",
          "model_name": "HTMLModel",
          "model_module_version": "1.5.0",
          "state": {
            "_dom_classes": [],
            "_model_module": "@jupyter-widgets/controls",
            "_model_module_version": "1.5.0",
            "_model_name": "HTMLModel",
            "_view_count": null,
            "_view_module": "@jupyter-widgets/controls",
            "_view_module_version": "1.5.0",
            "_view_name": "HTMLView",
            "description": "",
            "description_tooltip": null,
            "layout": "IPY_MODEL_5bbf9b0cbada4794a000c5ba49cbfb48",
            "placeholder": "​",
            "style": "IPY_MODEL_4bd68cc4802649b9940f6beba99023ff",
            "value": "Downloading: 100%"
          }
        },
        "16268203384a4967bdf2b95dd29e3b86": {
          "model_module": "@jupyter-widgets/controls",
          "model_name": "FloatProgressModel",
          "model_module_version": "1.5.0",
          "state": {
            "_dom_classes": [],
            "_model_module": "@jupyter-widgets/controls",
            "_model_module_version": "1.5.0",
            "_model_name": "FloatProgressModel",
            "_view_count": null,
            "_view_module": "@jupyter-widgets/controls",
            "_view_module_version": "1.5.0",
            "_view_name": "ProgressView",
            "bar_style": "success",
            "description": "",
            "description_tooltip": null,
            "layout": "IPY_MODEL_2534897617204a00abeed7091759f460",
            "max": 445025130,
            "min": 0,
            "orientation": "horizontal",
            "style": "IPY_MODEL_61329235811844969b7c78649932b20a",
            "value": 445025130
          }
        },
        "cc2563a912be4976865dddc2b739679e": {
          "model_module": "@jupyter-widgets/controls",
          "model_name": "HTMLModel",
          "model_module_version": "1.5.0",
          "state": {
            "_dom_classes": [],
            "_model_module": "@jupyter-widgets/controls",
            "_model_module_version": "1.5.0",
            "_model_name": "HTMLModel",
            "_view_count": null,
            "_view_module": "@jupyter-widgets/controls",
            "_view_module_version": "1.5.0",
            "_view_name": "HTMLView",
            "description": "",
            "description_tooltip": null,
            "layout": "IPY_MODEL_0593c7461c8b4e228de340f3ac828f9c",
            "placeholder": "​",
            "style": "IPY_MODEL_4485ec2071084928a65c37052730c32c",
            "value": " 424M/424M [00:18&lt;00:00, 24.0MB/s]"
          }
        },
        "de371b270bba4d82b9489715d89f5df6": {
          "model_module": "@jupyter-widgets/base",
          "model_name": "LayoutModel",
          "model_module_version": "1.2.0",
          "state": {
            "_model_module": "@jupyter-widgets/base",
            "_model_module_version": "1.2.0",
            "_model_name": "LayoutModel",
            "_view_count": null,
            "_view_module": "@jupyter-widgets/base",
            "_view_module_version": "1.2.0",
            "_view_name": "LayoutView",
            "align_content": null,
            "align_items": null,
            "align_self": null,
            "border": null,
            "bottom": null,
            "display": null,
            "flex": null,
            "flex_flow": null,
            "grid_area": null,
            "grid_auto_columns": null,
            "grid_auto_flow": null,
            "grid_auto_rows": null,
            "grid_column": null,
            "grid_gap": null,
            "grid_row": null,
            "grid_template_areas": null,
            "grid_template_columns": null,
            "grid_template_rows": null,
            "height": null,
            "justify_content": null,
            "justify_items": null,
            "left": null,
            "margin": null,
            "max_height": null,
            "max_width": null,
            "min_height": null,
            "min_width": null,
            "object_fit": null,
            "object_position": null,
            "order": null,
            "overflow": null,
            "overflow_x": null,
            "overflow_y": null,
            "padding": null,
            "right": null,
            "top": null,
            "visibility": null,
            "width": null
          }
        },
        "5bbf9b0cbada4794a000c5ba49cbfb48": {
          "model_module": "@jupyter-widgets/base",
          "model_name": "LayoutModel",
          "model_module_version": "1.2.0",
          "state": {
            "_model_module": "@jupyter-widgets/base",
            "_model_module_version": "1.2.0",
            "_model_name": "LayoutModel",
            "_view_count": null,
            "_view_module": "@jupyter-widgets/base",
            "_view_module_version": "1.2.0",
            "_view_name": "LayoutView",
            "align_content": null,
            "align_items": null,
            "align_self": null,
            "border": null,
            "bottom": null,
            "display": null,
            "flex": null,
            "flex_flow": null,
            "grid_area": null,
            "grid_auto_columns": null,
            "grid_auto_flow": null,
            "grid_auto_rows": null,
            "grid_column": null,
            "grid_gap": null,
            "grid_row": null,
            "grid_template_areas": null,
            "grid_template_columns": null,
            "grid_template_rows": null,
            "height": null,
            "justify_content": null,
            "justify_items": null,
            "left": null,
            "margin": null,
            "max_height": null,
            "max_width": null,
            "min_height": null,
            "min_width": null,
            "object_fit": null,
            "object_position": null,
            "order": null,
            "overflow": null,
            "overflow_x": null,
            "overflow_y": null,
            "padding": null,
            "right": null,
            "top": null,
            "visibility": null,
            "width": null
          }
        },
        "4bd68cc4802649b9940f6beba99023ff": {
          "model_module": "@jupyter-widgets/controls",
          "model_name": "DescriptionStyleModel",
          "model_module_version": "1.5.0",
          "state": {
            "_model_module": "@jupyter-widgets/controls",
            "_model_module_version": "1.5.0",
            "_model_name": "DescriptionStyleModel",
            "_view_count": null,
            "_view_module": "@jupyter-widgets/base",
            "_view_module_version": "1.2.0",
            "_view_name": "StyleView",
            "description_width": ""
          }
        },
        "2534897617204a00abeed7091759f460": {
          "model_module": "@jupyter-widgets/base",
          "model_name": "LayoutModel",
          "model_module_version": "1.2.0",
          "state": {
            "_model_module": "@jupyter-widgets/base",
            "_model_module_version": "1.2.0",
            "_model_name": "LayoutModel",
            "_view_count": null,
            "_view_module": "@jupyter-widgets/base",
            "_view_module_version": "1.2.0",
            "_view_name": "LayoutView",
            "align_content": null,
            "align_items": null,
            "align_self": null,
            "border": null,
            "bottom": null,
            "display": null,
            "flex": null,
            "flex_flow": null,
            "grid_area": null,
            "grid_auto_columns": null,
            "grid_auto_flow": null,
            "grid_auto_rows": null,
            "grid_column": null,
            "grid_gap": null,
            "grid_row": null,
            "grid_template_areas": null,
            "grid_template_columns": null,
            "grid_template_rows": null,
            "height": null,
            "justify_content": null,
            "justify_items": null,
            "left": null,
            "margin": null,
            "max_height": null,
            "max_width": null,
            "min_height": null,
            "min_width": null,
            "object_fit": null,
            "object_position": null,
            "order": null,
            "overflow": null,
            "overflow_x": null,
            "overflow_y": null,
            "padding": null,
            "right": null,
            "top": null,
            "visibility": null,
            "width": null
          }
        },
        "61329235811844969b7c78649932b20a": {
          "model_module": "@jupyter-widgets/controls",
          "model_name": "ProgressStyleModel",
          "model_module_version": "1.5.0",
          "state": {
            "_model_module": "@jupyter-widgets/controls",
            "_model_module_version": "1.5.0",
            "_model_name": "ProgressStyleModel",
            "_view_count": null,
            "_view_module": "@jupyter-widgets/base",
            "_view_module_version": "1.2.0",
            "_view_name": "StyleView",
            "bar_color": null,
            "description_width": ""
          }
        },
        "0593c7461c8b4e228de340f3ac828f9c": {
          "model_module": "@jupyter-widgets/base",
          "model_name": "LayoutModel",
          "model_module_version": "1.2.0",
          "state": {
            "_model_module": "@jupyter-widgets/base",
            "_model_module_version": "1.2.0",
            "_model_name": "LayoutModel",
            "_view_count": null,
            "_view_module": "@jupyter-widgets/base",
            "_view_module_version": "1.2.0",
            "_view_name": "LayoutView",
            "align_content": null,
            "align_items": null,
            "align_self": null,
            "border": null,
            "bottom": null,
            "display": null,
            "flex": null,
            "flex_flow": null,
            "grid_area": null,
            "grid_auto_columns": null,
            "grid_auto_flow": null,
            "grid_auto_rows": null,
            "grid_column": null,
            "grid_gap": null,
            "grid_row": null,
            "grid_template_areas": null,
            "grid_template_columns": null,
            "grid_template_rows": null,
            "height": null,
            "justify_content": null,
            "justify_items": null,
            "left": null,
            "margin": null,
            "max_height": null,
            "max_width": null,
            "min_height": null,
            "min_width": null,
            "object_fit": null,
            "object_position": null,
            "order": null,
            "overflow": null,
            "overflow_x": null,
            "overflow_y": null,
            "padding": null,
            "right": null,
            "top": null,
            "visibility": null,
            "width": null
          }
        },
        "4485ec2071084928a65c37052730c32c": {
          "model_module": "@jupyter-widgets/controls",
          "model_name": "DescriptionStyleModel",
          "model_module_version": "1.5.0",
          "state": {
            "_model_module": "@jupyter-widgets/controls",
            "_model_module_version": "1.5.0",
            "_model_name": "DescriptionStyleModel",
            "_view_count": null,
            "_view_module": "@jupyter-widgets/base",
            "_view_module_version": "1.2.0",
            "_view_name": "StyleView",
            "description_width": ""
          }
        },
        "7a8dcca5fa2d40119e1e130f77535ffb": {
          "model_module": "@jupyter-widgets/controls",
          "model_name": "HBoxModel",
          "model_module_version": "1.5.0",
          "state": {
            "_dom_classes": [],
            "_model_module": "@jupyter-widgets/controls",
            "_model_module_version": "1.5.0",
            "_model_name": "HBoxModel",
            "_view_count": null,
            "_view_module": "@jupyter-widgets/controls",
            "_view_module_version": "1.5.0",
            "_view_name": "HBoxView",
            "box_style": "",
            "children": [
              "IPY_MODEL_b504575b14ab4d87a9ca5d3352a3c007",
              "IPY_MODEL_0736fd6ea25e45b68c80ff7099957a34",
              "IPY_MODEL_fc3f048583ae4ae099ac548dc7cf14b1"
            ],
            "layout": "IPY_MODEL_44f3f9428cf84c48b2d60b9836aef5d6"
          }
        },
        "b504575b14ab4d87a9ca5d3352a3c007": {
          "model_module": "@jupyter-widgets/controls",
          "model_name": "HTMLModel",
          "model_module_version": "1.5.0",
          "state": {
            "_dom_classes": [],
            "_model_module": "@jupyter-widgets/controls",
            "_model_module_version": "1.5.0",
            "_model_name": "HTMLModel",
            "_view_count": null,
            "_view_module": "@jupyter-widgets/controls",
            "_view_module_version": "1.5.0",
            "_view_name": "HTMLView",
            "description": "",
            "description_tooltip": null,
            "layout": "IPY_MODEL_6c4df341afb3446da8012d3a16be2b77",
            "placeholder": "​",
            "style": "IPY_MODEL_127272bf932a4272b82c808bfa4f989f",
            "value": "Downloading: 100%"
          }
        },
        "0736fd6ea25e45b68c80ff7099957a34": {
          "model_module": "@jupyter-widgets/controls",
          "model_name": "FloatProgressModel",
          "model_module_version": "1.5.0",
          "state": {
            "_dom_classes": [],
            "_model_module": "@jupyter-widgets/controls",
            "_model_module_version": "1.5.0",
            "_model_name": "FloatProgressModel",
            "_view_count": null,
            "_view_module": "@jupyter-widgets/controls",
            "_view_module_version": "1.5.0",
            "_view_name": "ProgressView",
            "bar_style": "success",
            "description": "",
            "description_tooltip": null,
            "layout": "IPY_MODEL_6a27b646bf354e3fbc9b59722efbd7fc",
            "max": 289,
            "min": 0,
            "orientation": "horizontal",
            "style": "IPY_MODEL_85a5b587feef4e759c0d5f0a6eb8db5c",
            "value": 289
          }
        },
        "fc3f048583ae4ae099ac548dc7cf14b1": {
          "model_module": "@jupyter-widgets/controls",
          "model_name": "HTMLModel",
          "model_module_version": "1.5.0",
          "state": {
            "_dom_classes": [],
            "_model_module": "@jupyter-widgets/controls",
            "_model_module_version": "1.5.0",
            "_model_name": "HTMLModel",
            "_view_count": null,
            "_view_module": "@jupyter-widgets/controls",
            "_view_module_version": "1.5.0",
            "_view_name": "HTMLView",
            "description": "",
            "description_tooltip": null,
            "layout": "IPY_MODEL_fc1dcb5c9da046218806ea043d1dc2c5",
            "placeholder": "​",
            "style": "IPY_MODEL_7f6e91e6d1e042b5ba8d00b178e2f73c",
            "value": " 289/289 [00:00&lt;00:00, 2.31kB/s]"
          }
        },
        "44f3f9428cf84c48b2d60b9836aef5d6": {
          "model_module": "@jupyter-widgets/base",
          "model_name": "LayoutModel",
          "model_module_version": "1.2.0",
          "state": {
            "_model_module": "@jupyter-widgets/base",
            "_model_module_version": "1.2.0",
            "_model_name": "LayoutModel",
            "_view_count": null,
            "_view_module": "@jupyter-widgets/base",
            "_view_module_version": "1.2.0",
            "_view_name": "LayoutView",
            "align_content": null,
            "align_items": null,
            "align_self": null,
            "border": null,
            "bottom": null,
            "display": null,
            "flex": null,
            "flex_flow": null,
            "grid_area": null,
            "grid_auto_columns": null,
            "grid_auto_flow": null,
            "grid_auto_rows": null,
            "grid_column": null,
            "grid_gap": null,
            "grid_row": null,
            "grid_template_areas": null,
            "grid_template_columns": null,
            "grid_template_rows": null,
            "height": null,
            "justify_content": null,
            "justify_items": null,
            "left": null,
            "margin": null,
            "max_height": null,
            "max_width": null,
            "min_height": null,
            "min_width": null,
            "object_fit": null,
            "object_position": null,
            "order": null,
            "overflow": null,
            "overflow_x": null,
            "overflow_y": null,
            "padding": null,
            "right": null,
            "top": null,
            "visibility": null,
            "width": null
          }
        },
        "6c4df341afb3446da8012d3a16be2b77": {
          "model_module": "@jupyter-widgets/base",
          "model_name": "LayoutModel",
          "model_module_version": "1.2.0",
          "state": {
            "_model_module": "@jupyter-widgets/base",
            "_model_module_version": "1.2.0",
            "_model_name": "LayoutModel",
            "_view_count": null,
            "_view_module": "@jupyter-widgets/base",
            "_view_module_version": "1.2.0",
            "_view_name": "LayoutView",
            "align_content": null,
            "align_items": null,
            "align_self": null,
            "border": null,
            "bottom": null,
            "display": null,
            "flex": null,
            "flex_flow": null,
            "grid_area": null,
            "grid_auto_columns": null,
            "grid_auto_flow": null,
            "grid_auto_rows": null,
            "grid_column": null,
            "grid_gap": null,
            "grid_row": null,
            "grid_template_areas": null,
            "grid_template_columns": null,
            "grid_template_rows": null,
            "height": null,
            "justify_content": null,
            "justify_items": null,
            "left": null,
            "margin": null,
            "max_height": null,
            "max_width": null,
            "min_height": null,
            "min_width": null,
            "object_fit": null,
            "object_position": null,
            "order": null,
            "overflow": null,
            "overflow_x": null,
            "overflow_y": null,
            "padding": null,
            "right": null,
            "top": null,
            "visibility": null,
            "width": null
          }
        },
        "127272bf932a4272b82c808bfa4f989f": {
          "model_module": "@jupyter-widgets/controls",
          "model_name": "DescriptionStyleModel",
          "model_module_version": "1.5.0",
          "state": {
            "_model_module": "@jupyter-widgets/controls",
            "_model_module_version": "1.5.0",
            "_model_name": "DescriptionStyleModel",
            "_view_count": null,
            "_view_module": "@jupyter-widgets/base",
            "_view_module_version": "1.2.0",
            "_view_name": "StyleView",
            "description_width": ""
          }
        },
        "6a27b646bf354e3fbc9b59722efbd7fc": {
          "model_module": "@jupyter-widgets/base",
          "model_name": "LayoutModel",
          "model_module_version": "1.2.0",
          "state": {
            "_model_module": "@jupyter-widgets/base",
            "_model_module_version": "1.2.0",
            "_model_name": "LayoutModel",
            "_view_count": null,
            "_view_module": "@jupyter-widgets/base",
            "_view_module_version": "1.2.0",
            "_view_name": "LayoutView",
            "align_content": null,
            "align_items": null,
            "align_self": null,
            "border": null,
            "bottom": null,
            "display": null,
            "flex": null,
            "flex_flow": null,
            "grid_area": null,
            "grid_auto_columns": null,
            "grid_auto_flow": null,
            "grid_auto_rows": null,
            "grid_column": null,
            "grid_gap": null,
            "grid_row": null,
            "grid_template_areas": null,
            "grid_template_columns": null,
            "grid_template_rows": null,
            "height": null,
            "justify_content": null,
            "justify_items": null,
            "left": null,
            "margin": null,
            "max_height": null,
            "max_width": null,
            "min_height": null,
            "min_width": null,
            "object_fit": null,
            "object_position": null,
            "order": null,
            "overflow": null,
            "overflow_x": null,
            "overflow_y": null,
            "padding": null,
            "right": null,
            "top": null,
            "visibility": null,
            "width": null
          }
        },
        "85a5b587feef4e759c0d5f0a6eb8db5c": {
          "model_module": "@jupyter-widgets/controls",
          "model_name": "ProgressStyleModel",
          "model_module_version": "1.5.0",
          "state": {
            "_model_module": "@jupyter-widgets/controls",
            "_model_module_version": "1.5.0",
            "_model_name": "ProgressStyleModel",
            "_view_count": null,
            "_view_module": "@jupyter-widgets/base",
            "_view_module_version": "1.2.0",
            "_view_name": "StyleView",
            "bar_color": null,
            "description_width": ""
          }
        },
        "fc1dcb5c9da046218806ea043d1dc2c5": {
          "model_module": "@jupyter-widgets/base",
          "model_name": "LayoutModel",
          "model_module_version": "1.2.0",
          "state": {
            "_model_module": "@jupyter-widgets/base",
            "_model_module_version": "1.2.0",
            "_model_name": "LayoutModel",
            "_view_count": null,
            "_view_module": "@jupyter-widgets/base",
            "_view_module_version": "1.2.0",
            "_view_name": "LayoutView",
            "align_content": null,
            "align_items": null,
            "align_self": null,
            "border": null,
            "bottom": null,
            "display": null,
            "flex": null,
            "flex_flow": null,
            "grid_area": null,
            "grid_auto_columns": null,
            "grid_auto_flow": null,
            "grid_auto_rows": null,
            "grid_column": null,
            "grid_gap": null,
            "grid_row": null,
            "grid_template_areas": null,
            "grid_template_columns": null,
            "grid_template_rows": null,
            "height": null,
            "justify_content": null,
            "justify_items": null,
            "left": null,
            "margin": null,
            "max_height": null,
            "max_width": null,
            "min_height": null,
            "min_width": null,
            "object_fit": null,
            "object_position": null,
            "order": null,
            "overflow": null,
            "overflow_x": null,
            "overflow_y": null,
            "padding": null,
            "right": null,
            "top": null,
            "visibility": null,
            "width": null
          }
        },
        "7f6e91e6d1e042b5ba8d00b178e2f73c": {
          "model_module": "@jupyter-widgets/controls",
          "model_name": "DescriptionStyleModel",
          "model_module_version": "1.5.0",
          "state": {
            "_model_module": "@jupyter-widgets/controls",
            "_model_module_version": "1.5.0",
            "_model_name": "DescriptionStyleModel",
            "_view_count": null,
            "_view_module": "@jupyter-widgets/base",
            "_view_module_version": "1.2.0",
            "_view_name": "StyleView",
            "description_width": ""
          }
        },
        "d912da7649f640239257a31670bd6e34": {
          "model_module": "@jupyter-widgets/controls",
          "model_name": "HBoxModel",
          "model_module_version": "1.5.0",
          "state": {
            "_dom_classes": [],
            "_model_module": "@jupyter-widgets/controls",
            "_model_module_version": "1.5.0",
            "_model_name": "HBoxModel",
            "_view_count": null,
            "_view_module": "@jupyter-widgets/controls",
            "_view_module_version": "1.5.0",
            "_view_name": "HBoxView",
            "box_style": "",
            "children": [
              "IPY_MODEL_1923f3fdb94e43eab9ac71112cd08edf",
              "IPY_MODEL_84aaac713fd24771a508c5993f37dcbd",
              "IPY_MODEL_e0ffc92c10cb42ea998c1c84dcefd325"
            ],
            "layout": "IPY_MODEL_081d4555a9eb47e0b281830e6c246ddd"
          }
        },
        "1923f3fdb94e43eab9ac71112cd08edf": {
          "model_module": "@jupyter-widgets/controls",
          "model_name": "HTMLModel",
          "model_module_version": "1.5.0",
          "state": {
            "_dom_classes": [],
            "_model_module": "@jupyter-widgets/controls",
            "_model_module_version": "1.5.0",
            "_model_name": "HTMLModel",
            "_view_count": null,
            "_view_module": "@jupyter-widgets/controls",
            "_view_module_version": "1.5.0",
            "_view_name": "HTMLView",
            "description": "",
            "description_tooltip": null,
            "layout": "IPY_MODEL_7a33d4fff7704f47b5c5503f56289059",
            "placeholder": "​",
            "style": "IPY_MODEL_7fc994fc8231434390fa3d2f5d6b92c7",
            "value": "Downloading: 100%"
          }
        },
        "84aaac713fd24771a508c5993f37dcbd": {
          "model_module": "@jupyter-widgets/controls",
          "model_name": "FloatProgressModel",
          "model_module_version": "1.5.0",
          "state": {
            "_dom_classes": [],
            "_model_module": "@jupyter-widgets/controls",
            "_model_module_version": "1.5.0",
            "_model_name": "FloatProgressModel",
            "_view_count": null,
            "_view_module": "@jupyter-widgets/controls",
            "_view_module_version": "1.5.0",
            "_view_name": "ProgressView",
            "bar_style": "success",
            "description": "",
            "description_tooltip": null,
            "layout": "IPY_MODEL_bb50e9dee4f64408a6ccfb354d1ad66d",
            "max": 248477,
            "min": 0,
            "orientation": "horizontal",
            "style": "IPY_MODEL_f2c09c68f1394a108b5c78c5caee668e",
            "value": 248477
          }
        },
        "e0ffc92c10cb42ea998c1c84dcefd325": {
          "model_module": "@jupyter-widgets/controls",
          "model_name": "HTMLModel",
          "model_module_version": "1.5.0",
          "state": {
            "_dom_classes": [],
            "_model_module": "@jupyter-widgets/controls",
            "_model_module_version": "1.5.0",
            "_model_name": "HTMLModel",
            "_view_count": null,
            "_view_module": "@jupyter-widgets/controls",
            "_view_module_version": "1.5.0",
            "_view_name": "HTMLView",
            "description": "",
            "description_tooltip": null,
            "layout": "IPY_MODEL_eb7ebfad554c4b20b69da90cc9b00990",
            "placeholder": "​",
            "style": "IPY_MODEL_2632bc789a384adfadf29bf24b2f2dd8",
            "value": " 243k/243k [00:00&lt;00:00, 7.79kB/s]"
          }
        },
        "081d4555a9eb47e0b281830e6c246ddd": {
          "model_module": "@jupyter-widgets/base",
          "model_name": "LayoutModel",
          "model_module_version": "1.2.0",
          "state": {
            "_model_module": "@jupyter-widgets/base",
            "_model_module_version": "1.2.0",
            "_model_name": "LayoutModel",
            "_view_count": null,
            "_view_module": "@jupyter-widgets/base",
            "_view_module_version": "1.2.0",
            "_view_name": "LayoutView",
            "align_content": null,
            "align_items": null,
            "align_self": null,
            "border": null,
            "bottom": null,
            "display": null,
            "flex": null,
            "flex_flow": null,
            "grid_area": null,
            "grid_auto_columns": null,
            "grid_auto_flow": null,
            "grid_auto_rows": null,
            "grid_column": null,
            "grid_gap": null,
            "grid_row": null,
            "grid_template_areas": null,
            "grid_template_columns": null,
            "grid_template_rows": null,
            "height": null,
            "justify_content": null,
            "justify_items": null,
            "left": null,
            "margin": null,
            "max_height": null,
            "max_width": null,
            "min_height": null,
            "min_width": null,
            "object_fit": null,
            "object_position": null,
            "order": null,
            "overflow": null,
            "overflow_x": null,
            "overflow_y": null,
            "padding": null,
            "right": null,
            "top": null,
            "visibility": null,
            "width": null
          }
        },
        "7a33d4fff7704f47b5c5503f56289059": {
          "model_module": "@jupyter-widgets/base",
          "model_name": "LayoutModel",
          "model_module_version": "1.2.0",
          "state": {
            "_model_module": "@jupyter-widgets/base",
            "_model_module_version": "1.2.0",
            "_model_name": "LayoutModel",
            "_view_count": null,
            "_view_module": "@jupyter-widgets/base",
            "_view_module_version": "1.2.0",
            "_view_name": "LayoutView",
            "align_content": null,
            "align_items": null,
            "align_self": null,
            "border": null,
            "bottom": null,
            "display": null,
            "flex": null,
            "flex_flow": null,
            "grid_area": null,
            "grid_auto_columns": null,
            "grid_auto_flow": null,
            "grid_auto_rows": null,
            "grid_column": null,
            "grid_gap": null,
            "grid_row": null,
            "grid_template_areas": null,
            "grid_template_columns": null,
            "grid_template_rows": null,
            "height": null,
            "justify_content": null,
            "justify_items": null,
            "left": null,
            "margin": null,
            "max_height": null,
            "max_width": null,
            "min_height": null,
            "min_width": null,
            "object_fit": null,
            "object_position": null,
            "order": null,
            "overflow": null,
            "overflow_x": null,
            "overflow_y": null,
            "padding": null,
            "right": null,
            "top": null,
            "visibility": null,
            "width": null
          }
        },
        "7fc994fc8231434390fa3d2f5d6b92c7": {
          "model_module": "@jupyter-widgets/controls",
          "model_name": "DescriptionStyleModel",
          "model_module_version": "1.5.0",
          "state": {
            "_model_module": "@jupyter-widgets/controls",
            "_model_module_version": "1.5.0",
            "_model_name": "DescriptionStyleModel",
            "_view_count": null,
            "_view_module": "@jupyter-widgets/base",
            "_view_module_version": "1.2.0",
            "_view_name": "StyleView",
            "description_width": ""
          }
        },
        "bb50e9dee4f64408a6ccfb354d1ad66d": {
          "model_module": "@jupyter-widgets/base",
          "model_name": "LayoutModel",
          "model_module_version": "1.2.0",
          "state": {
            "_model_module": "@jupyter-widgets/base",
            "_model_module_version": "1.2.0",
            "_model_name": "LayoutModel",
            "_view_count": null,
            "_view_module": "@jupyter-widgets/base",
            "_view_module_version": "1.2.0",
            "_view_name": "LayoutView",
            "align_content": null,
            "align_items": null,
            "align_self": null,
            "border": null,
            "bottom": null,
            "display": null,
            "flex": null,
            "flex_flow": null,
            "grid_area": null,
            "grid_auto_columns": null,
            "grid_auto_flow": null,
            "grid_auto_rows": null,
            "grid_column": null,
            "grid_gap": null,
            "grid_row": null,
            "grid_template_areas": null,
            "grid_template_columns": null,
            "grid_template_rows": null,
            "height": null,
            "justify_content": null,
            "justify_items": null,
            "left": null,
            "margin": null,
            "max_height": null,
            "max_width": null,
            "min_height": null,
            "min_width": null,
            "object_fit": null,
            "object_position": null,
            "order": null,
            "overflow": null,
            "overflow_x": null,
            "overflow_y": null,
            "padding": null,
            "right": null,
            "top": null,
            "visibility": null,
            "width": null
          }
        },
        "f2c09c68f1394a108b5c78c5caee668e": {
          "model_module": "@jupyter-widgets/controls",
          "model_name": "ProgressStyleModel",
          "model_module_version": "1.5.0",
          "state": {
            "_model_module": "@jupyter-widgets/controls",
            "_model_module_version": "1.5.0",
            "_model_name": "ProgressStyleModel",
            "_view_count": null,
            "_view_module": "@jupyter-widgets/base",
            "_view_module_version": "1.2.0",
            "_view_name": "StyleView",
            "bar_color": null,
            "description_width": ""
          }
        },
        "eb7ebfad554c4b20b69da90cc9b00990": {
          "model_module": "@jupyter-widgets/base",
          "model_name": "LayoutModel",
          "model_module_version": "1.2.0",
          "state": {
            "_model_module": "@jupyter-widgets/base",
            "_model_module_version": "1.2.0",
            "_model_name": "LayoutModel",
            "_view_count": null,
            "_view_module": "@jupyter-widgets/base",
            "_view_module_version": "1.2.0",
            "_view_name": "LayoutView",
            "align_content": null,
            "align_items": null,
            "align_self": null,
            "border": null,
            "bottom": null,
            "display": null,
            "flex": null,
            "flex_flow": null,
            "grid_area": null,
            "grid_auto_columns": null,
            "grid_auto_flow": null,
            "grid_auto_rows": null,
            "grid_column": null,
            "grid_gap": null,
            "grid_row": null,
            "grid_template_areas": null,
            "grid_template_columns": null,
            "grid_template_rows": null,
            "height": null,
            "justify_content": null,
            "justify_items": null,
            "left": null,
            "margin": null,
            "max_height": null,
            "max_width": null,
            "min_height": null,
            "min_width": null,
            "object_fit": null,
            "object_position": null,
            "order": null,
            "overflow": null,
            "overflow_x": null,
            "overflow_y": null,
            "padding": null,
            "right": null,
            "top": null,
            "visibility": null,
            "width": null
          }
        },
        "2632bc789a384adfadf29bf24b2f2dd8": {
          "model_module": "@jupyter-widgets/controls",
          "model_name": "DescriptionStyleModel",
          "model_module_version": "1.5.0",
          "state": {
            "_model_module": "@jupyter-widgets/controls",
            "_model_module_version": "1.5.0",
            "_model_name": "DescriptionStyleModel",
            "_view_count": null,
            "_view_module": "@jupyter-widgets/base",
            "_view_module_version": "1.2.0",
            "_view_name": "StyleView",
            "description_width": ""
          }
        },
        "959657da2c3c43fd9375e8323538241b": {
          "model_module": "@jupyter-widgets/controls",
          "model_name": "HBoxModel",
          "model_module_version": "1.5.0",
          "state": {
            "_dom_classes": [],
            "_model_module": "@jupyter-widgets/controls",
            "_model_module_version": "1.5.0",
            "_model_name": "HBoxModel",
            "_view_count": null,
            "_view_module": "@jupyter-widgets/controls",
            "_view_module_version": "1.5.0",
            "_view_name": "HBoxView",
            "box_style": "",
            "children": [
              "IPY_MODEL_2178fa8363b8449dbdc2badef7aa85f3",
              "IPY_MODEL_c95a4b1a24814f9980e8e093f28b6e56",
              "IPY_MODEL_92419ae6fb9d4a8593fdf9ceef05f0d4"
            ],
            "layout": "IPY_MODEL_18d186ec66e94b1b9d4aada21ed96e83"
          }
        },
        "2178fa8363b8449dbdc2badef7aa85f3": {
          "model_module": "@jupyter-widgets/controls",
          "model_name": "HTMLModel",
          "model_module_version": "1.5.0",
          "state": {
            "_dom_classes": [],
            "_model_module": "@jupyter-widgets/controls",
            "_model_module_version": "1.5.0",
            "_model_name": "HTMLModel",
            "_view_count": null,
            "_view_module": "@jupyter-widgets/controls",
            "_view_module_version": "1.5.0",
            "_view_name": "HTMLView",
            "description": "",
            "description_tooltip": null,
            "layout": "IPY_MODEL_814079f90d8c4e3f94d437ccf13aaa1f",
            "placeholder": "​",
            "style": "IPY_MODEL_0c4f86238e3444b79e1b6fe90632b34e",
            "value": "Downloading: 100%"
          }
        },
        "c95a4b1a24814f9980e8e093f28b6e56": {
          "model_module": "@jupyter-widgets/controls",
          "model_name": "FloatProgressModel",
          "model_module_version": "1.5.0",
          "state": {
            "_dom_classes": [],
            "_model_module": "@jupyter-widgets/controls",
            "_model_module_version": "1.5.0",
            "_model_name": "FloatProgressModel",
            "_view_count": null,
            "_view_module": "@jupyter-widgets/controls",
            "_view_module_version": "1.5.0",
            "_view_name": "ProgressView",
            "bar_style": "success",
            "description": "",
            "description_tooltip": null,
            "layout": "IPY_MODEL_6864bd1326824136ae2ab77b410a66b5",
            "max": 494860,
            "min": 0,
            "orientation": "horizontal",
            "style": "IPY_MODEL_3524c8e168a9482da530f4a6f31b69e9",
            "value": 494860
          }
        },
        "92419ae6fb9d4a8593fdf9ceef05f0d4": {
          "model_module": "@jupyter-widgets/controls",
          "model_name": "HTMLModel",
          "model_module_version": "1.5.0",
          "state": {
            "_dom_classes": [],
            "_model_module": "@jupyter-widgets/controls",
            "_model_module_version": "1.5.0",
            "_model_name": "HTMLModel",
            "_view_count": null,
            "_view_module": "@jupyter-widgets/controls",
            "_view_module_version": "1.5.0",
            "_view_name": "HTMLView",
            "description": "",
            "description_tooltip": null,
            "layout": "IPY_MODEL_6bbcc689f82349e5ac8267d83aafff83",
            "placeholder": "​",
            "style": "IPY_MODEL_013732ff123e462e86c0b09162b7283f",
            "value": " 483k/483k [00:00&lt;00:00, 1.47MB/s]"
          }
        },
        "18d186ec66e94b1b9d4aada21ed96e83": {
          "model_module": "@jupyter-widgets/base",
          "model_name": "LayoutModel",
          "model_module_version": "1.2.0",
          "state": {
            "_model_module": "@jupyter-widgets/base",
            "_model_module_version": "1.2.0",
            "_model_name": "LayoutModel",
            "_view_count": null,
            "_view_module": "@jupyter-widgets/base",
            "_view_module_version": "1.2.0",
            "_view_name": "LayoutView",
            "align_content": null,
            "align_items": null,
            "align_self": null,
            "border": null,
            "bottom": null,
            "display": null,
            "flex": null,
            "flex_flow": null,
            "grid_area": null,
            "grid_auto_columns": null,
            "grid_auto_flow": null,
            "grid_auto_rows": null,
            "grid_column": null,
            "grid_gap": null,
            "grid_row": null,
            "grid_template_areas": null,
            "grid_template_columns": null,
            "grid_template_rows": null,
            "height": null,
            "justify_content": null,
            "justify_items": null,
            "left": null,
            "margin": null,
            "max_height": null,
            "max_width": null,
            "min_height": null,
            "min_width": null,
            "object_fit": null,
            "object_position": null,
            "order": null,
            "overflow": null,
            "overflow_x": null,
            "overflow_y": null,
            "padding": null,
            "right": null,
            "top": null,
            "visibility": null,
            "width": null
          }
        },
        "814079f90d8c4e3f94d437ccf13aaa1f": {
          "model_module": "@jupyter-widgets/base",
          "model_name": "LayoutModel",
          "model_module_version": "1.2.0",
          "state": {
            "_model_module": "@jupyter-widgets/base",
            "_model_module_version": "1.2.0",
            "_model_name": "LayoutModel",
            "_view_count": null,
            "_view_module": "@jupyter-widgets/base",
            "_view_module_version": "1.2.0",
            "_view_name": "LayoutView",
            "align_content": null,
            "align_items": null,
            "align_self": null,
            "border": null,
            "bottom": null,
            "display": null,
            "flex": null,
            "flex_flow": null,
            "grid_area": null,
            "grid_auto_columns": null,
            "grid_auto_flow": null,
            "grid_auto_rows": null,
            "grid_column": null,
            "grid_gap": null,
            "grid_row": null,
            "grid_template_areas": null,
            "grid_template_columns": null,
            "grid_template_rows": null,
            "height": null,
            "justify_content": null,
            "justify_items": null,
            "left": null,
            "margin": null,
            "max_height": null,
            "max_width": null,
            "min_height": null,
            "min_width": null,
            "object_fit": null,
            "object_position": null,
            "order": null,
            "overflow": null,
            "overflow_x": null,
            "overflow_y": null,
            "padding": null,
            "right": null,
            "top": null,
            "visibility": null,
            "width": null
          }
        },
        "0c4f86238e3444b79e1b6fe90632b34e": {
          "model_module": "@jupyter-widgets/controls",
          "model_name": "DescriptionStyleModel",
          "model_module_version": "1.5.0",
          "state": {
            "_model_module": "@jupyter-widgets/controls",
            "_model_module_version": "1.5.0",
            "_model_name": "DescriptionStyleModel",
            "_view_count": null,
            "_view_module": "@jupyter-widgets/base",
            "_view_module_version": "1.2.0",
            "_view_name": "StyleView",
            "description_width": ""
          }
        },
        "6864bd1326824136ae2ab77b410a66b5": {
          "model_module": "@jupyter-widgets/base",
          "model_name": "LayoutModel",
          "model_module_version": "1.2.0",
          "state": {
            "_model_module": "@jupyter-widgets/base",
            "_model_module_version": "1.2.0",
            "_model_name": "LayoutModel",
            "_view_count": null,
            "_view_module": "@jupyter-widgets/base",
            "_view_module_version": "1.2.0",
            "_view_name": "LayoutView",
            "align_content": null,
            "align_items": null,
            "align_self": null,
            "border": null,
            "bottom": null,
            "display": null,
            "flex": null,
            "flex_flow": null,
            "grid_area": null,
            "grid_auto_columns": null,
            "grid_auto_flow": null,
            "grid_auto_rows": null,
            "grid_column": null,
            "grid_gap": null,
            "grid_row": null,
            "grid_template_areas": null,
            "grid_template_columns": null,
            "grid_template_rows": null,
            "height": null,
            "justify_content": null,
            "justify_items": null,
            "left": null,
            "margin": null,
            "max_height": null,
            "max_width": null,
            "min_height": null,
            "min_width": null,
            "object_fit": null,
            "object_position": null,
            "order": null,
            "overflow": null,
            "overflow_x": null,
            "overflow_y": null,
            "padding": null,
            "right": null,
            "top": null,
            "visibility": null,
            "width": null
          }
        },
        "3524c8e168a9482da530f4a6f31b69e9": {
          "model_module": "@jupyter-widgets/controls",
          "model_name": "ProgressStyleModel",
          "model_module_version": "1.5.0",
          "state": {
            "_model_module": "@jupyter-widgets/controls",
            "_model_module_version": "1.5.0",
            "_model_name": "ProgressStyleModel",
            "_view_count": null,
            "_view_module": "@jupyter-widgets/base",
            "_view_module_version": "1.2.0",
            "_view_name": "StyleView",
            "bar_color": null,
            "description_width": ""
          }
        },
        "6bbcc689f82349e5ac8267d83aafff83": {
          "model_module": "@jupyter-widgets/base",
          "model_name": "LayoutModel",
          "model_module_version": "1.2.0",
          "state": {
            "_model_module": "@jupyter-widgets/base",
            "_model_module_version": "1.2.0",
            "_model_name": "LayoutModel",
            "_view_count": null,
            "_view_module": "@jupyter-widgets/base",
            "_view_module_version": "1.2.0",
            "_view_name": "LayoutView",
            "align_content": null,
            "align_items": null,
            "align_self": null,
            "border": null,
            "bottom": null,
            "display": null,
            "flex": null,
            "flex_flow": null,
            "grid_area": null,
            "grid_auto_columns": null,
            "grid_auto_flow": null,
            "grid_auto_rows": null,
            "grid_column": null,
            "grid_gap": null,
            "grid_row": null,
            "grid_template_areas": null,
            "grid_template_columns": null,
            "grid_template_rows": null,
            "height": null,
            "justify_content": null,
            "justify_items": null,
            "left": null,
            "margin": null,
            "max_height": null,
            "max_width": null,
            "min_height": null,
            "min_width": null,
            "object_fit": null,
            "object_position": null,
            "order": null,
            "overflow": null,
            "overflow_x": null,
            "overflow_y": null,
            "padding": null,
            "right": null,
            "top": null,
            "visibility": null,
            "width": null
          }
        },
        "013732ff123e462e86c0b09162b7283f": {
          "model_module": "@jupyter-widgets/controls",
          "model_name": "DescriptionStyleModel",
          "model_module_version": "1.5.0",
          "state": {
            "_model_module": "@jupyter-widgets/controls",
            "_model_module_version": "1.5.0",
            "_model_name": "DescriptionStyleModel",
            "_view_count": null,
            "_view_module": "@jupyter-widgets/base",
            "_view_module_version": "1.2.0",
            "_view_name": "StyleView",
            "description_width": ""
          }
        },
        "3b341b5c4a5847dabd5d3de51cba364b": {
          "model_module": "@jupyter-widgets/controls",
          "model_name": "HBoxModel",
          "model_module_version": "1.5.0",
          "state": {
            "_dom_classes": [],
            "_model_module": "@jupyter-widgets/controls",
            "_model_module_version": "1.5.0",
            "_model_name": "HBoxModel",
            "_view_count": null,
            "_view_module": "@jupyter-widgets/controls",
            "_view_module_version": "1.5.0",
            "_view_name": "HBoxView",
            "box_style": "",
            "children": [
              "IPY_MODEL_2429cc8eb19b4ddfa868a68c95eefe73",
              "IPY_MODEL_91d24d93f3d44cf4a70e75ed78e72e52",
              "IPY_MODEL_eab568f349a042408e18c1d7c9512d2f"
            ],
            "layout": "IPY_MODEL_964b5f1af4884357856405bcdd8f0adf"
          }
        },
        "2429cc8eb19b4ddfa868a68c95eefe73": {
          "model_module": "@jupyter-widgets/controls",
          "model_name": "HTMLModel",
          "model_module_version": "1.5.0",
          "state": {
            "_dom_classes": [],
            "_model_module": "@jupyter-widgets/controls",
            "_model_module_version": "1.5.0",
            "_model_name": "HTMLModel",
            "_view_count": null,
            "_view_module": "@jupyter-widgets/controls",
            "_view_module_version": "1.5.0",
            "_view_name": "HTMLView",
            "description": "",
            "description_tooltip": null,
            "layout": "IPY_MODEL_aca8f751300a4e30a90266b163017f11",
            "placeholder": "​",
            "style": "IPY_MODEL_c856062673324429a9e2b9a2be1605b7",
            "value": "Downloading: 100%"
          }
        },
        "91d24d93f3d44cf4a70e75ed78e72e52": {
          "model_module": "@jupyter-widgets/controls",
          "model_name": "FloatProgressModel",
          "model_module_version": "1.5.0",
          "state": {
            "_dom_classes": [],
            "_model_module": "@jupyter-widgets/controls",
            "_model_module_version": "1.5.0",
            "_model_name": "FloatProgressModel",
            "_view_count": null,
            "_view_module": "@jupyter-widgets/controls",
            "_view_module_version": "1.5.0",
            "_view_name": "ProgressView",
            "bar_style": "success",
            "description": "",
            "description_tooltip": null,
            "layout": "IPY_MODEL_326c82f7bebe404ca1061ab9029be87d",
            "max": 125,
            "min": 0,
            "orientation": "horizontal",
            "style": "IPY_MODEL_f4c1c64b472743b6a163324a29b7e822",
            "value": 125
          }
        },
        "eab568f349a042408e18c1d7c9512d2f": {
          "model_module": "@jupyter-widgets/controls",
          "model_name": "HTMLModel",
          "model_module_version": "1.5.0",
          "state": {
            "_dom_classes": [],
            "_model_module": "@jupyter-widgets/controls",
            "_model_module_version": "1.5.0",
            "_model_name": "HTMLModel",
            "_view_count": null,
            "_view_module": "@jupyter-widgets/controls",
            "_view_module_version": "1.5.0",
            "_view_name": "HTMLView",
            "description": "",
            "description_tooltip": null,
            "layout": "IPY_MODEL_51082e96701246898ec6ef20dd24daaf",
            "placeholder": "​",
            "style": "IPY_MODEL_c3cb1c83382d457093e16994589accb4",
            "value": " 125/125 [00:00&lt;00:00, 1.13kB/s]"
          }
        },
        "964b5f1af4884357856405bcdd8f0adf": {
          "model_module": "@jupyter-widgets/base",
          "model_name": "LayoutModel",
          "model_module_version": "1.2.0",
          "state": {
            "_model_module": "@jupyter-widgets/base",
            "_model_module_version": "1.2.0",
            "_model_name": "LayoutModel",
            "_view_count": null,
            "_view_module": "@jupyter-widgets/base",
            "_view_module_version": "1.2.0",
            "_view_name": "LayoutView",
            "align_content": null,
            "align_items": null,
            "align_self": null,
            "border": null,
            "bottom": null,
            "display": null,
            "flex": null,
            "flex_flow": null,
            "grid_area": null,
            "grid_auto_columns": null,
            "grid_auto_flow": null,
            "grid_auto_rows": null,
            "grid_column": null,
            "grid_gap": null,
            "grid_row": null,
            "grid_template_areas": null,
            "grid_template_columns": null,
            "grid_template_rows": null,
            "height": null,
            "justify_content": null,
            "justify_items": null,
            "left": null,
            "margin": null,
            "max_height": null,
            "max_width": null,
            "min_height": null,
            "min_width": null,
            "object_fit": null,
            "object_position": null,
            "order": null,
            "overflow": null,
            "overflow_x": null,
            "overflow_y": null,
            "padding": null,
            "right": null,
            "top": null,
            "visibility": null,
            "width": null
          }
        },
        "aca8f751300a4e30a90266b163017f11": {
          "model_module": "@jupyter-widgets/base",
          "model_name": "LayoutModel",
          "model_module_version": "1.2.0",
          "state": {
            "_model_module": "@jupyter-widgets/base",
            "_model_module_version": "1.2.0",
            "_model_name": "LayoutModel",
            "_view_count": null,
            "_view_module": "@jupyter-widgets/base",
            "_view_module_version": "1.2.0",
            "_view_name": "LayoutView",
            "align_content": null,
            "align_items": null,
            "align_self": null,
            "border": null,
            "bottom": null,
            "display": null,
            "flex": null,
            "flex_flow": null,
            "grid_area": null,
            "grid_auto_columns": null,
            "grid_auto_flow": null,
            "grid_auto_rows": null,
            "grid_column": null,
            "grid_gap": null,
            "grid_row": null,
            "grid_template_areas": null,
            "grid_template_columns": null,
            "grid_template_rows": null,
            "height": null,
            "justify_content": null,
            "justify_items": null,
            "left": null,
            "margin": null,
            "max_height": null,
            "max_width": null,
            "min_height": null,
            "min_width": null,
            "object_fit": null,
            "object_position": null,
            "order": null,
            "overflow": null,
            "overflow_x": null,
            "overflow_y": null,
            "padding": null,
            "right": null,
            "top": null,
            "visibility": null,
            "width": null
          }
        },
        "c856062673324429a9e2b9a2be1605b7": {
          "model_module": "@jupyter-widgets/controls",
          "model_name": "DescriptionStyleModel",
          "model_module_version": "1.5.0",
          "state": {
            "_model_module": "@jupyter-widgets/controls",
            "_model_module_version": "1.5.0",
            "_model_name": "DescriptionStyleModel",
            "_view_count": null,
            "_view_module": "@jupyter-widgets/base",
            "_view_module_version": "1.2.0",
            "_view_name": "StyleView",
            "description_width": ""
          }
        },
        "326c82f7bebe404ca1061ab9029be87d": {
          "model_module": "@jupyter-widgets/base",
          "model_name": "LayoutModel",
          "model_module_version": "1.2.0",
          "state": {
            "_model_module": "@jupyter-widgets/base",
            "_model_module_version": "1.2.0",
            "_model_name": "LayoutModel",
            "_view_count": null,
            "_view_module": "@jupyter-widgets/base",
            "_view_module_version": "1.2.0",
            "_view_name": "LayoutView",
            "align_content": null,
            "align_items": null,
            "align_self": null,
            "border": null,
            "bottom": null,
            "display": null,
            "flex": null,
            "flex_flow": null,
            "grid_area": null,
            "grid_auto_columns": null,
            "grid_auto_flow": null,
            "grid_auto_rows": null,
            "grid_column": null,
            "grid_gap": null,
            "grid_row": null,
            "grid_template_areas": null,
            "grid_template_columns": null,
            "grid_template_rows": null,
            "height": null,
            "justify_content": null,
            "justify_items": null,
            "left": null,
            "margin": null,
            "max_height": null,
            "max_width": null,
            "min_height": null,
            "min_width": null,
            "object_fit": null,
            "object_position": null,
            "order": null,
            "overflow": null,
            "overflow_x": null,
            "overflow_y": null,
            "padding": null,
            "right": null,
            "top": null,
            "visibility": null,
            "width": null
          }
        },
        "f4c1c64b472743b6a163324a29b7e822": {
          "model_module": "@jupyter-widgets/controls",
          "model_name": "ProgressStyleModel",
          "model_module_version": "1.5.0",
          "state": {
            "_model_module": "@jupyter-widgets/controls",
            "_model_module_version": "1.5.0",
            "_model_name": "ProgressStyleModel",
            "_view_count": null,
            "_view_module": "@jupyter-widgets/base",
            "_view_module_version": "1.2.0",
            "_view_name": "StyleView",
            "bar_color": null,
            "description_width": ""
          }
        },
        "51082e96701246898ec6ef20dd24daaf": {
          "model_module": "@jupyter-widgets/base",
          "model_name": "LayoutModel",
          "model_module_version": "1.2.0",
          "state": {
            "_model_module": "@jupyter-widgets/base",
            "_model_module_version": "1.2.0",
            "_model_name": "LayoutModel",
            "_view_count": null,
            "_view_module": "@jupyter-widgets/base",
            "_view_module_version": "1.2.0",
            "_view_name": "LayoutView",
            "align_content": null,
            "align_items": null,
            "align_self": null,
            "border": null,
            "bottom": null,
            "display": null,
            "flex": null,
            "flex_flow": null,
            "grid_area": null,
            "grid_auto_columns": null,
            "grid_auto_flow": null,
            "grid_auto_rows": null,
            "grid_column": null,
            "grid_gap": null,
            "grid_row": null,
            "grid_template_areas": null,
            "grid_template_columns": null,
            "grid_template_rows": null,
            "height": null,
            "justify_content": null,
            "justify_items": null,
            "left": null,
            "margin": null,
            "max_height": null,
            "max_width": null,
            "min_height": null,
            "min_width": null,
            "object_fit": null,
            "object_position": null,
            "order": null,
            "overflow": null,
            "overflow_x": null,
            "overflow_y": null,
            "padding": null,
            "right": null,
            "top": null,
            "visibility": null,
            "width": null
          }
        },
        "c3cb1c83382d457093e16994589accb4": {
          "model_module": "@jupyter-widgets/controls",
          "model_name": "DescriptionStyleModel",
          "model_module_version": "1.5.0",
          "state": {
            "_model_module": "@jupyter-widgets/controls",
            "_model_module_version": "1.5.0",
            "_model_name": "DescriptionStyleModel",
            "_view_count": null,
            "_view_module": "@jupyter-widgets/base",
            "_view_module_version": "1.2.0",
            "_view_name": "StyleView",
            "description_width": ""
          }
        }
      }
    }
  },
  "nbformat": 4,
  "nbformat_minor": 0
}